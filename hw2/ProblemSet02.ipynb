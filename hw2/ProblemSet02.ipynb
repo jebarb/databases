{
 "cells": [
  {
   "cell_type": "markdown",
   "metadata": {
    "course": "Comp521F16",
    "problemset": 2,
    "section": "header"
   },
   "source": [
    "<div style=\"text-align: center;\">\n",
    "<h1>The University of North Carolina at Chapel Hill</h1>\n",
    "<h1>Comp 521 Files and Databases - Fall 2016</h1>\n",
    "<h1 style=\"font-size: 250%;\">Problem Set #2</h1>\n",
    "<h1 style=\"font-size: 200%;\">Version 1.1</h1>\n",
    "<h1>Issued Friday 09/16/2016; Due Monday 09/26/2016</h1>\n",
    "</div>\n",
    "\n",
    "**Homework Information:** The answer cells in this notebook contain metadata that enable it to be automatically parsed. Thus, you must enter your answers *only* into the cells provided. Do not delete any answer cell and/or add a new one to replace it. If you do so by accident, download a new copy of the problem set's notebook and transfer your answers into it. You can introduce new 'coding' cells in an effort to test your approaches to problems, however, these introduced cells will not be considered when grading.\n",
    "\n",
    "Finally, some of the problems are probably too long to be done the night before the due date, so plan accordingly. Late problem sets will be penalized by a factor of 70.71% for each class meeting after their due date. Feel free to get help from others, but the work you submit in should be your own."
   ]
  },
  {
   "cell_type": "code",
   "execution_count": 3,
   "metadata": {
    "collapsed": true,
    "section": "signature"
   },
   "outputs": [],
   "source": [
    "# Do not make any edits in this cell!\n",
    "class Student:\n",
    "    first = \"James\"\n",
    "    last = \"Barbour\"\n",
    "    onyen = \"jebarbou\"\n",
    "    pid = \"720076615\""
   ]
  },
  {
   "cell_type": "markdown",
   "metadata": {
    "section": "setup"
   },
   "source": [
    "In the following questions you are asked to write a single SQL query to find the requested results from the Movies data described in problem set #1.\n",
    " <table style=\"border:none;\"><tbody>\n",
    "        <tr style=\"border:none;\">\n",
    "            <td style=\"padding:0px 20px;border:none;\">\n",
    "            <table><tbody>\n",
    "            <tr><th colspan=\"6\" style=\"text-align:center;\">Movies</th></tr>\n",
    "            <tr><td><u>mid</u></td>\n",
    "                <td>title</td>\n",
    "                <td>releasedate</td>\n",
    "                <td>runtime</td>\n",
    "                <td>revenue</td>\n",
    "                <td>budget</td>\n",
    "            </tr>\n",
    "            </tbody></table>\n",
    "            </td>\n",
    "            <td style=\"padding:0px 20px;border:none;\">\n",
    "            <table><tbody>\n",
    "            <tr><th colspan=\"4\" style=\"text-align:center;\">Cast</th></tr>\n",
    "            <tr><td><u>mid</u></td>\n",
    "                <td><u>billing</u></td>\n",
    "                <td><u>aid</u></td>\n",
    "                <td>role</td>\n",
    "            </tr>\n",
    "            </tbody></table>\n",
    "            </td>\n",
    "            <td style=\"padding:0px 20px;border:none;\">\n",
    "            <table><tbody>\n",
    "            <tr><th colspan=\"4\" style=\"text-align:center;\">Actors</th></tr>\n",
    "            <tr><td><u>aid</u></td>\n",
    "                <td>name</td>\n",
    "                <td>gender</td>\n",
    "                <td>birthdate</td>\n",
    "            </tr>\n",
    "            </tbody></table>\n",
    "            </td>\n",
    "        </tr>\n",
    "        </tbody></table>\n",
    "\n",
    "An <a href=\"http://csbio.unc.edu/mcmillan/Media/movies.db\" download>example database</a> and the interactive SQL parser (<a href=\"http://csbio.unc.edu/mcmillan/Media/iSQL.zip\" download>iSQL.zip</a>) are provided for experimentation. You will need to unzip and copy iSQL.py into the same directory as the notebook for this problem set and invoke it as follows:\n",
    "\n",
    "\n",
    "    import iSQL\n",
    "    \n",
    "    query = iSQL.parser(\"movies.db\")\n",
    "    </code>\n",
    "    \n",
    "\n",
    "Make sure that you copy your final SQL query into the cell provided for your answer. Only that cell will be graded.\n",
    "***Warning***, if your query appears to give the correct result for the given database, that does not mean that it is correct. A correct query must give the requested result for *any* and *all* valid instances of the given database schema."
   ]
  },
  {
   "cell_type": "markdown",
   "metadata": {
    "case": 0,
    "key": "Superman",
    "number": 1,
    "section": "problem"
   },
   "source": [
    "---\n",
    "**Problem 1:** Find the titles and release dates of all movies for which \"Superman\" appears in the title (Hint: You should \"like\" Superman):"
   ]
  },
  {
   "cell_type": "raw",
   "metadata": {
    "case": 0,
    "key": "Superman",
    "number": 1,
    "section": "answer"
   },
   "source": [
    "SELECT M.title, M.release\n",
    "FROM  Movies M\n",
    "WHERE M.title LIKE \"%Superman%\""
   ]
  },
  {
   "cell_type": "markdown",
   "metadata": {
    "case": 2,
    "key": "Superman",
    "number": 2,
    "section": "problem"
   },
   "source": [
    "---\n",
    "**Problem 2:** Find the titles of movies that include a character called \"Superman\", that do not include the word \"Superman\" in their title:"
   ]
  },
  {
   "cell_type": "raw",
   "metadata": {
    "case": 2,
    "key": "Superman",
    "number": 2,
    "section": "answer"
   },
   "source": [
    "SELECT M.title\n",
    "FROM  Movies M\n",
    "WHERE M.mid IN  (SELECT DISTINCT C.mid\n",
    "    FROM Cast C\n",
    "    WHERE C.role LIKE \"%Superman%\")\n",
    "and M.title NOT LIKE \"%Superman%\""
   ]
  },
  {
   "cell_type": "markdown",
   "metadata": {
    "case": 3,
    "key": "Superman",
    "number": 3,
    "section": "problem"
   },
   "source": [
    "---\n",
    "**Problem 3:** Find the titles of movies that include characters called \"Superman\" and \"Lois Lane\" in their credits:"
   ]
  },
  {
   "cell_type": "raw",
   "metadata": {
    "case": 3,
    "key": "Superman",
    "number": 3,
    "section": "answer"
   },
   "source": [
    "SELECT M.title\n",
    "FROM  Movies M\n",
    "WHERE M.mid IN (SELECT C.mid\n",
    "    FROM Cast C\n",
    "    WHERE C.role LIKE \"%Lois Lane%\"\n",
    "    INTERSECT\n",
    "    SELECT C.mid\n",
    "    FROM Cast C\n",
    "    WHERE C.role LIKE \"%Superman%\")"
   ]
  },
  {
   "cell_type": "markdown",
   "metadata": {
    "case": 4,
    "key": "Superman",
    "number": 4,
    "section": "problem"
   },
   "source": [
    "---\n",
    "**Problem 4:** Find the names of actors that played characters called \"Superman\" and \"Lois Lane\" in the same Movie:"
   ]
  },
  {
   "cell_type": "raw",
   "metadata": {
    "case": 4,
    "key": "Superman",
    "number": 4,
    "section": "answer"
   },
   "source": [
    "SELECT DISTINCT L.name, S.name\n",
    "FROM (((SELECT *\n",
    "    FROM Cast C\n",
    "    WHERE C.role LIKE \"%Lois Lane%\")\n",
    "    JOIN Actors USING (aid)) as L\n",
    "    JOIN\n",
    "    ((SELECT *\n",
    "    FROM Cast C\n",
    "    WHERE C.role LIKE \"%Superman%\")\n",
    "    JOIN Actors USING (aid)) as S\n",
    "    USING (mid))"
   ]
  },
  {
   "cell_type": "markdown",
   "metadata": {
    "case": 5,
    "key": "Superman",
    "number": 5,
    "section": "problem"
   },
   "source": [
    "---\n",
    "**Problem 5:** Find the titles of movies that include characters called \"Superman\" and \"Lex Luthor\" and \"Jimmy Olsen\":"
   ]
  },
  {
   "cell_type": "raw",
   "metadata": {
    "case": 5,
    "key": "Superman",
    "number": 5,
    "section": "answer"
   },
   "source": [
    "SELECT M.title\n",
    "FROM  Movies M\n",
    "WHERE M.mid IN (SELECT C.mid\n",
    "    FROM Cast C\n",
    "    WHERE C.role LIKE \"%Superman%\"\n",
    "    INTERSECT\n",
    "    SELECT C.mid\n",
    "    FROM Cast C\n",
    "    WHERE C.role LIKE \"%Lex Luthor%\"\n",
    "    INTERSECT\n",
    "    SELECT C.mid\n",
    "    FROM Cast C\n",
    "    WHERE C.role LIKE \"%Jimmy Olsen%\")"
   ]
  },
  {
   "cell_type": "markdown",
   "metadata": {
    "case": 7,
    "key": "Superman",
    "number": 6,
    "section": "problem"
   },
   "source": [
    "---\n",
    "**Problem 6:** Find the filmography of the Actor named \"Henry Cavill\" in chronological order:"
   ]
  },
  {
   "cell_type": "raw",
   "metadata": {
    "case": 7,
    "key": "Superman",
    "number": 6,
    "section": "answer"
   },
   "source": [
    "SELECT M.title\n",
    "FROM  Movies M\n",
    "WHERE M.mid IN (SELECT C.mid\n",
    "    FROM Cast C\n",
    "    WHERE C.aid in (\n",
    "        SELECT A.aid\n",
    "        FROM Actors A\n",
    "        WHERE A.name = \"Henry Cavill\"))\n",
    "ORDER BY M.release ASC"
   ]
  },
  {
   "cell_type": "markdown",
   "metadata": {
    "case": 2,
    "key": "Superman",
    "number": 7,
    "section": "problem"
   },
   "source": [
    "---\n",
    "**Problem 7:** What is the largest revenue of any movie staring \"Brad Pitt\" (i.e. where he had top-billing)?"
   ]
  },
  {
   "cell_type": "raw",
   "metadata": {
    "case": 2,
    "key": "common",
    "number": 7,
    "section": "answer"
   },
   "source": [
    "SELECT MAX(M.revenue)\n",
    "FROM  Movies M\n",
    "WHERE M.mid IN (SELECT C.mid\n",
    "    FROM Cast C\n",
    "    WHERE C.billing = 1 AND C.aid in (\n",
    "        SELECT A.aid\n",
    "        FROM Actors A\n",
    "        WHERE A.name = \"Brad Pitt\"))"
   ]
  },
  {
   "cell_type": "markdown",
   "metadata": {
    "case": 3,
    "key": "Superman",
    "number": 8,
    "section": "problem"
   },
   "source": [
    "---\n",
    "**Problem 8:** What actor appeared in the most movies grossing over $10 millon dollars?:"
   ]
  },
  {
   "cell_type": "raw",
   "metadata": {
    "case": 3,
    "key": "common",
    "number": 8,
    "section": "answer"
   },
   "source": [
    "SELECT A.name\n",
    "FROM Actors A\n",
    "WHERE A.aid in (\n",
    "    SELECT C.aid\n",
    "    FROM Cast C\n",
    "    WHERE C.mid in (SELECT M.mid\n",
    "        FROM Movies M\n",
    "        WHERE M.revenue > 10000000)\n",
    "    GROUP BY C.aid\n",
    "    ORDER BY COUNT(*) DESC\n",
    "    LIMIT 1)"
   ]
  },
  {
   "cell_type": "markdown",
   "metadata": {
    "case": 4,
    "key": "Superman",
    "number": 9,
    "section": "problem"
   },
   "source": [
    "---\n",
    "**Problem 9:** How many movies were released in each year? (Hint: SELECT DISTINCT strftime('%Y',release) FROM Movies)"
   ]
  },
  {
   "cell_type": "raw",
   "metadata": {
    "case": 4,
    "key": "common",
    "number": 9,
    "section": "answer"
   },
   "source": [
    "SELECT strftime('%Y',release), count(strftime('%Y',release))\n",
    "FROM Movies\n",
    "GROUP BY strftime('%Y',release)"
   ]
  },
  {
   "cell_type": "markdown",
   "metadata": {
    "case": 6,
    "key": "Superman",
    "number": 10,
    "section": "problem"
   },
   "source": [
    "---\n",
    "**Problem 10:** What actor-actress pair appear in the most Movies together?"
   ]
  },
  {
   "cell_type": "raw",
   "metadata": {
    "case": 6,
    "key": "common",
    "number": 10,
    "section": "answer"
   },
   "source": [
    "SELECT F.name, M.name\n",
    "FROM ((SELECT aid, name FROM Actors WHERE gender = \"F\")\n",
    "        JOIN Cast USING (aid)) AS F\n",
    "    JOIN\n",
    "    ((SELECT aid, name FROM Actors WHERE gender = \"M\")\n",
    "        JOIN Cast USING (aid)) AS M\n",
    "    USING(mid)\n",
    "GROUP BY F.aid, M.aid\n",
    "ORDER BY COUNT(*) DESC\n",
    "LIMIT 1\n"
   ]
  },
  {
   "cell_type": "markdown",
   "metadata": {
    "case": 8,
    "key": "Superman",
    "number": 11,
    "section": "problem"
   },
   "source": [
    "---\n",
    "**Problem 11:** What movie has the longest list of cast members?"
   ]
  },
  {
   "cell_type": "raw",
   "metadata": {
    "case": 8,
    "key": "common",
    "number": 11,
    "section": "answer"
   },
   "source": [
    "SELECT M.title\n",
    "FROM Movies M\n",
    "WHERE M.mid in (\n",
    "    SELECT C.mid\n",
    "    FROM Cast C\n",
    "    GROUP BY C.mid\n",
    "    ORDER BY COUNT(*) DESC\n",
    "    LIMIT 1)"
   ]
  },
  {
   "cell_type": "markdown",
   "metadata": {
    "case": 10,
    "key": "Superman",
    "number": 12,
    "section": "problem"
   },
   "source": [
    "---\n",
    "**Problem 12:** What actor's movie career has spanned the longest number of years?"
   ]
  },
  {
   "cell_type": "raw",
   "metadata": {
    "case": 10,
    "key": "common",
    "number": 12,
    "section": "answer"
   },
   "source": [
    "SELECT A.name\n",
    "FROM (Actors JOIN Cast USING (aid)\n",
    "    JOIN Movies USING (mid)) as A\n",
    "    JOIN\n",
    "    (Actors JOIN Cast USING (aid)\n",
    "    JOIN Movies USING (mid)) as B\n",
    "    USING(aid)\n",
    "GROUP BY A.name\n",
    "ORDER BY MAX(ABS(strftime('%Y%m%d', A.release) - strftime('%Y%m%d', B.release))) DESC\n",
    "LIMIT 1"
   ]
  },
  {
   "cell_type": "markdown",
   "metadata": {},
   "source": [
    "Click [here to submit](http://csbio.unc.edu/mcmillan/index.py?run=PS.upload) your completed problem set.\n",
    "\n",
    "You can submit it as many times as you would like, but only the last submitted version will be graded. If the last submission was after the due date the final score will be reduced accordingly. "
   ]
  }
 ],
 "metadata": {
  "kernelspec": {
   "display_name": "Python 2",
   "language": "python",
   "name": "python2"
  },
  "language_info": {
   "codemirror_mode": {
    "name": "ipython",
    "version": 2
   },
   "file_extension": ".py",
   "mimetype": "text/x-python",
   "name": "python",
   "nbconvert_exporter": "python",
   "pygments_lexer": "ipython2",
   "version": "2.7.12"
  }
 },
 "nbformat": 4,
 "nbformat_minor": 0
}
