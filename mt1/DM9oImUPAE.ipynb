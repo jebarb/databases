{
 "cells": [
  {
   "cell_type": "markdown",
   "metadata": {
    "course": "Comp521F16",
    "exam": "Midterm1",
    "section": "header"
   },
   "source": [
    "<div style=\"text-align: center;\">\n",
    "<h1>The University of North Carolina at Chapel Hill</h1>\n",
    "<h1>Comp 521 Files and Databases - Fall 2016</h1>\n",
    "<h1 style=\"font-size: 200%;\">Midterm #1 </h1>\n",
    "<h2>20 questions - 50 minutes</h2>\n",
    "<h1>Friday 9/30/2016</h1>\n",
    "</div>\n",
    "\n",
    "**Exam Information:** Answer each question using the cell immediately following it. For multiple choice questions enter only the *one* best answer. The cells in this notebook contain metadata that enables it to be automatically parsed. Thus, you must enter your answers *only* into the cells provided. Do not delete any answer cell and add a new one to replace it."
   ]
  },
  {
   "cell_type": "code",
   "execution_count": 1,
   "metadata": {
    "collapsed": true,
    "section": "signature"
   },
   "outputs": [],
   "source": [
    "# Replace the following string values with the requested information\n",
    "# Make sure each string is enclosed in quotation marks\n",
    "class Student:\n",
    "    first = \"James\"\n",
    "    last = \"Barbour\"\n",
    "    onyen = \"jebarbou\"\n",
    "    pid = \"720076615\""
   ]
  },
  {
   "cell_type": "markdown",
   "metadata": {
    "number": 1,
    "section": "problem"
   },
   "source": [
    "**1.**\tWhich of the following statements characterize the relational database model?\n",
    "<br>\n",
    "<br>\n",
    "<div style=\"margin-left:30px;\">\n",
    "    A. Entities are stored as tables<br>\n",
    "    B. Relations between entities are stored as tables<br>\n",
    "    C. The domain for each attribute is pre-specified<br>\n",
    "    D. Each table has a distinct name<br>\n",
    "    E. All of the above\n",
    "</div>"
   ]
  },
  {
   "cell_type": "raw",
   "metadata": {
    "number": 1,
    "section": "answer"
   },
   "source": [
    "B"
   ]
  },
  {
   "cell_type": "markdown",
   "metadata": {
    "number": 2,
    "section": "problem"
   },
   "source": [
    "**2.** Which of the following might be shared by multiple tuples in the same relation?\n",
    "<br>\n",
    "<br>\n",
    "<div style=\"margin-left:30px;\">\n",
    "   A. A primary key<br>\n",
    "   B. A super key<br>\n",
    "   C. A combination of attributes declared to be unique<br>\n",
    "   D. A foreign key<br>\n",
    "   E. None of the above\n",
    "</div>"
   ]
  },
  {
   "cell_type": "raw",
   "metadata": {
    "number": 2,
    "section": "answer"
   },
   "source": [
    "D"
   ]
  },
  {
   "cell_type": "markdown",
   "metadata": {
    "number": 3,
    "section": "problem"
   },
   "source": [
    "#### The following questions refer to the table below, which is named *CELLAR*.\n",
    "\n",
    "Vineyard          | Wine            | Year | Bottles\n",
    ":----------------:|:---------------:|:----:|:-------:\n",
    "Longview          | Savignon Blanc  | 2011 | 2\n",
    "Casa Silva        | Savignon Blanc  | 2010 | 6\n",
    "Cakebread Cellars | Pinot Noir      | 2010 | 3\n",
    "Cakebread Cellars | Chardonnay      | 2009 | 5\n",
    "Cakebread Cellars | Chardonnay      | 2010 | 6\n",
    "Enate             | Crianza         | 2006 | 5\n",
    "Cline             | Syrah           | 2006 | 4\n",
    "Geyser Park       | Sauvignon Blanc | 2003 | 2\n",
    "\n",
    "**3.** Which is a reasonable key for this relation?\n",
    "<br>\n",
    "<br>\n",
    "<div style=\"margin-left:30px;\">\n",
    "    A. Vineyard<br>\n",
    "    B. Wine<br>\n",
    "    C. Year<br>\n",
    "    D. Wine and Year<br>\n",
    "    E. Vineyard, Wine, and Year<br>\n",
    "</div>"
   ]
  },
  {
   "cell_type": "raw",
   "metadata": {
    "number": 3,
    "section": "answer"
   },
   "source": [
    "E"
   ]
  },
  {
   "cell_type": "markdown",
   "metadata": {
    "number": 4,
    "section": "problem"
   },
   "source": [
    "**4.** How many tuples result from the Query:\n",
    "\n",
    "    \tSELECT Wine, Bottles\n",
    "    \tFROM CELLAR\n",
    "    \tWHERE Year < 2010\n",
    "          AND Bottles < 3\n"
   ]
  },
  {
   "cell_type": "raw",
   "metadata": {
    "number": 4,
    "section": "answer"
   },
   "source": [
    "3"
   ]
  },
  {
   "cell_type": "markdown",
   "metadata": {
    "number": 5,
    "section": "problem"
   },
   "source": [
    "**5.** How many rows result from the Query:\n",
    "\n",
    "        SELECT A.Wine, B.Wine\n",
    "    \tFROM CELLAR A, CELLAR B\n",
    "    \tWHERE A.Wine = Chardonnay\n",
    "          AND A.Bottles = B.Bottles\n"
   ]
  },
  {
   "cell_type": "raw",
   "metadata": {
    "number": 5,
    "section": "answer"
   },
   "source": [
    "2"
   ]
  },
  {
   "cell_type": "markdown",
   "metadata": {
    "number": 6,
    "section": "problem"
   },
   "source": [
    "**6.** How many rows remain in CELLAR after the following query:\n",
    "\n",
    "        DELETE FROM CELLAR \n",
    "        WHERE Bottles < 4\n",
    "        OR Year > 2009\n",
    "        OR Wine = Syrah\n"
   ]
  },
  {
   "cell_type": "raw",
   "metadata": {
    "number": 6,
    "section": "answer"
   },
   "source": [
    "2"
   ]
  },
  {
   "cell_type": "markdown",
   "metadata": {
    "number": 7,
    "section": "problem"
   },
   "source": [
    "**7. ** Which of the following makes a nested query correlated.\n",
    "<br>\n",
    "<br>\n",
    "<div style=\"margin-left:30px;\">\n",
    "    A. A query that appears within the WHERE clause<br>\n",
    "    B. A query that appears within the FROM clause<br>\n",
    "    C. A query that references a relation that appears in an outer query's FROM clause<br>\n",
    "    D. A query that references an attribute from a relation in the outer query's FROM clause<br>\n",
    "    E. Any JOIN on the FROM clause that includes a query  \n",
    "</div>"
   ]
  },
  {
   "cell_type": "raw",
   "metadata": {
    "number": 7,
    "section": "answer"
   },
   "source": [
    "C"
   ]
  },
  {
   "cell_type": "markdown",
   "metadata": {
    "number": 8,
    "section": "problem"
   },
   "source": [
    "**8.** Why is the 'join' operator not one of the five primitive (basic) operators of relational algebra?\n",
    "<br>\n",
    "<br>\n",
    "<div style=\"margin-left:30px;\">\n",
    "    A.\tIt was not included in Codd's seminal papers<br>\n",
    "    B.\tIt is equivalent to the Carteasian product<br>\n",
    "    C.\tJoins can be accomplished by composing primitive operations<br>\n",
    "    D.\tIt has too many variants to be considered a primitive operator<br>\n",
    "    E.\tNone of the above\n",
    "</div>"
   ]
  },
  {
   "cell_type": "raw",
   "metadata": {
    "number": 8,
    "section": "answer"
   },
   "source": [
    "A"
   ]
  },
  {
   "cell_type": "markdown",
   "metadata": {
    "number": 9,
    "section": "problem"
   },
   "source": [
    "**9. ** If relations R and S are union-compatible, which of the following are true?\n",
    "<br>\n",
    "<br>\n",
    "<div style=\"margin-left:30px;\">\n",
    "A. R and S have the same number of attributes<br>\n",
    "B. Attribute names of R and S must match<br>\n",
    "C. Corresponding attributes are of the same type<br>\n",
    "D. R &#8745; S = R &#x2a1d; S<br>\n",
    "E. All of the above\n",
    "</div>"
   ]
  },
  {
   "cell_type": "raw",
   "metadata": {
    "number": 9,
    "section": "answer"
   },
   "source": [
    "E"
   ]
  },
  {
   "cell_type": "markdown",
   "metadata": {
    "number": 10,
    "section": "problem"
   },
   "source": [
    "The following questions refer to the following relations:\n",
    "<table style=\"border:none;\"><tbody>\n",
    "<tr style=\"border:none;\">\n",
    "    <td style=\"padding:0px 20px 20px 20px;border:none;\" colspan=\"2\">\n",
    "    <table><tbody>\n",
    "    <tr><th colspan=\"6\" style=\"text-align:center;\">Movies</th></tr>\n",
    "    <tr><td><u>mid</u></td>\n",
    "        <td>title</td>\n",
    "        <td>release</td>\n",
    "        <td>runtime</td>\n",
    "        <td>revenue</td>\n",
    "        <td>budget</td>\n",
    "    </tr>\n",
    "    </tbody></table>\n",
    "    </td>\n",
    "</tr>    \n",
    "<tr style=\"border:none;\">\n",
    "    <td style=\"padding:0px 20px;border:none;\">\n",
    "    <table><tbody>\n",
    "    <tr><th colspan=\"4\" style=\"text-align:center;\">Cast</th></tr>\n",
    "    <tr><td><u>mid</u></td>\n",
    "        <td><u>billing</u></td>\n",
    "        <td>aid</td>\n",
    "        <td>role</td>\n",
    "    </tr>\n",
    "    </tbody></table>\n",
    "    </td>\n",
    "    \n",
    "    <td style=\"padding:0px 20px;border:none;\">\n",
    "    <table><tbody>\n",
    "    <tr><th colspan=\"4\" style=\"text-align:center;\">Actors</th></tr>\n",
    "    <tr><td><u>aid</u></td>\n",
    "        <td>name</td>\n",
    "        <td>gender</td>\n",
    "        <td>birthdate</td>\n",
    "    </tr>\n",
    "    </tbody></table>\n",
    "    </td>\n",
    "</tr>\n",
    "</tbody></table>\n",
    "\n",
    "**10.** Which of the following *best describes* the result of the relational algebra statement?\n",
    "\n",
    "<p style=\"margin-left:32px;\">&pi;<sub>mid1,aid1</sub>(&sigma;<sub>aid1=aid2,billing1&ne;billing2</sub>(<br>\n",
    "&nbsp;&nbsp;&nbsp;&nbsp;&nbsp;&nbsp;&nbsp;&nbsp;&rho;(1 &rarr; mid1, 2 &rarr; billing1, 3 &rarr; aid1, 4 &rarr; role1), Cast) &#x2a1d;<sub>mid1=mid2</sub><br>\n",
    "&nbsp;&nbsp;&nbsp;&nbsp;&nbsp;&nbsp;&nbsp;&nbsp;&rho;(1 &rarr; mid2, 2 &rarr; billing2, 3 &rarr; aid2, 4 &rarr; role2), Cast)))\n",
    "</p>\n",
    "<br>\n",
    "<div style=\"margin-left:30px;\">\n",
    "    A. Movie and actor ids of movies with a cast of only one actor<br>\n",
    "    B. Movie and actor ids of movies where an actor played two or more roles<br>\n",
    "    C. Movie and actor ids of movies where an actor played exacty two roles<br>\n",
    "    D. Movie and actor ids of actors who appear in only one movie<br>\n",
    "    E. Movie and actor ids where the actor appears in multiple movies \n",
    "</div>"
   ]
  },
  {
   "cell_type": "raw",
   "metadata": {
    "number": 10,
    "section": "answer"
   },
   "source": [
    "B"
   ]
  },
  {
   "cell_type": "markdown",
   "metadata": {
    "number": 11,
    "section": "problem"
   },
   "source": [
    "** 11.** Which of the following SQL queries best approximates the result set from the relational algebra expression:\n",
    "\n",
    "<p style=\"margin-left:32px;\">\n",
    "&pi;<sub>title</sub>(&sigma;<sub>title=role</sub>(Movies &#x2a1d; Cast)) \n",
    "</p>\n",
    "<br>\n",
    "<div style=\"margin-left:30px;\">\n",
    "    A. SELECT M.title<br>\n",
    "       &nbsp;&nbsp;&nbsp;&nbsp;&nbsp;FROM Movies M, Cast C<br>\n",
    "       &nbsp;&nbsp;&nbsp;&nbsp;&nbsp;WHERE M.title=C.role<br>\n",
    "    B. SELECT M.title<br>\n",
    "       &nbsp;&nbsp;&nbsp;&nbsp;&nbsp;FROM Movies M, Cast C<br>\n",
    "       &nbsp;&nbsp;&nbsp;&nbsp;&nbsp;WHERE M.title=C.role<br>\n",
    "       &nbsp;&nbsp;&nbsp;&nbsp;&nbsp;GROUP BY M.mid<br>\n",
    "    C. SELECT title<br>\n",
    "       &nbsp;&nbsp;&nbsp;&nbsp;&nbsp;FROM Movies<br>\n",
    "       &nbsp;&nbsp;&nbsp;&nbsp;&nbsp;WHERE mid in (SELECT mid FROM Cast)<br>\n",
    "       &nbsp;&nbsp;&nbsp;&nbsp;&nbsp;AND title in (SELECT role FROM Cast)<br>\n",
    "    D. SELECT M.title<br>\n",
    "       &nbsp;&nbsp;&nbsp;&nbsp;&nbsp;FROM Movies M, Cast C<br>\n",
    "       &nbsp;&nbsp;&nbsp;&nbsp;&nbsp;WHERE M.mid=C.mid AND M.title=C.role<br>\n",
    "    E. SELECT M.title<br>\n",
    "       &nbsp;&nbsp;&nbsp;&nbsp;&nbsp;FROM Movies M, Cast C<br>\n",
    "       &nbsp;&nbsp;&nbsp;&nbsp;&nbsp;WHERE M.mid=C.mid<br>\n",
    "       &nbsp;&nbsp;&nbsp;&nbsp;&nbsp;GROUP BY M.title, C.role<br>\n",
    "</div>"
   ]
  },
  {
   "cell_type": "raw",
   "metadata": {
    "number": 11,
    "section": "answer"
   },
   "source": [
    "D"
   ]
  },
  {
   "cell_type": "markdown",
   "metadata": {
    "number": 12,
    "section": "problem"
   },
   "source": [
    "**12.** Which of the supplied answers best describes the result of the given SQL query?\n",
    "\n",
    "<p style=\"margin-left:30px;\">\n",
    "SELECT DISTINCT A.name<br>\n",
    "FROM Movies M, Actors A, Cast C<br>\n",
    "WHERE M.mid=C.mid AND A.aid=C.aid AND C.role='Robin Hood'\n",
    "</p>\n",
    "<br>\n",
    "<div style=\"margin-left:30px;\">\n",
    "A.\tNames of actors who have appeared in a movie named \"Robin Hood\"<br>\n",
    "B.\tNames of actors who have played the role of \"Robin Hood\" exactly once<br>\n",
    "C.\tNames of actors who played the role of \"Robin Hood\" in a movie of the same name<br> \n",
    "D.\tNames of all actors who played the role of \"Robin Hood\" in any movie<br>\n",
    "E.\tNames of actors who played \"Robin Hood\" in a movie without a sequel \n",
    "</div>"
   ]
  },
  {
   "cell_type": "raw",
   "metadata": {
    "number": 12,
    "section": "answer"
   },
   "source": [
    "D"
   ]
  },
  {
   "cell_type": "markdown",
   "metadata": {
    "number": 13,
    "section": "problem"
   },
   "source": [
    "**13.**\tDescribe in words the result of the following SQL statement\n",
    "\n",
    "<p style=\"margin-left:30px;\">\n",
    "DELETE FROM Actors<br>\n",
    "WHERE aid NOT IN (<br>\n",
    "&nbsp;&nbsp;&nbsp;&nbsp;&nbsp;SELECT DISTINCT(C.aid)<br>\n",
    "&nbsp;&nbsp;&nbsp;&nbsp;&nbsp;FROM Movies M, Cast C<br>\n",
    "&nbsp;&nbsp;&nbsp;&nbsp;&nbsp;WHERE M.mid=C.mid AND M.revenue > 10000000)\n",
    "</p>\n",
    "\n",
    "assuming that the Cast relation includes the integrity constraints:\n",
    "\n",
    "<p style=\"margin-left:30px;\">\n",
    "FOREIGN KEY(aid) REFERENCES Actors(aid)<br>\n",
    "&nbsp;&nbsp;&nbsp;&nbsp;&nbsp;ON DELETE CASCADE<br>\n",
    "FOREIGN KEY(mid) REFERENCES Movies(mid)<br>\n",
    "&nbsp;&nbsp;&nbsp;&nbsp;&nbsp;ON DELETE CASCADE\n",
    "</p>"
   ]
  },
  {
   "cell_type": "raw",
   "metadata": {
    "number": 13,
    "section": "answer"
   },
   "source": [
    "Delete actors that have not played a role in a movie that has made more than $10000000, then delete all tuples that refer to any deleted actor. If any movies are deleted, delete all tuples that refer to that movie"
   ]
  },
  {
   "cell_type": "markdown",
   "metadata": {
    "number": 14,
    "section": "problem"
   },
   "source": [
    "Consider the following Python code fragment executed using the given schema:\n",
    "\n",
    "```python\n",
    "cursor.execute(\"\"\"SELECT C.aid\n",
    "                    FROM Casts C\n",
    "                   WHERE C.role='Batman'\"\"\")\n",
    "for tup in cursor.fetchall():\n",
    "    cursor.execute(\"\"\"SELECT A.name, M.title, M.release\n",
    "                        FROM Actors A, Casts C, Movies M\n",
    "                       WHERE A.aid = C.aid\n",
    "                         AND C.mid = M.mid\n",
    "                         AND A.aid = ?\n",
    "                       ORDER BY M.release\"\"\", (tup['aid'],))\n",
    "    for row in cursor:\n",
    "        print row['name'], row['title'], row['year']\n",
    "    print\n",
    "```\n",
    "\n",
    "**14.** Notice that the first query's result is accessed using the cursor's \n",
    "\"fetchall( )\" method, whereas the second uses the cursor as an iterator. \n",
    "What is the reason for this?\n",
    "<br>\n",
    "<br>\n",
    "<div style=\"margin-left:30px;\">\n",
    "A. Only one output row is expected from the first \"outer\" query<br>\n",
    "B. The use of \"fetchall()\" allows the cursor to be reused within the \"inner\" loop<br>\n",
    "C. Using either \"fetchall()\" or the cusor as an iterator is arbitrary in this case<br>\n",
    "D. The database schema dictates whether a table is traversed using \"fetchall()\" or using the cursor as an iterator.<br>\n",
    "E. None of the above\n",
    "</div>"
   ]
  },
  {
   "cell_type": "raw",
   "metadata": {
    "number": 14,
    "section": "answer"
   },
   "source": [
    "B"
   ]
  },
  {
   "cell_type": "markdown",
   "metadata": {
    "number": 15,
    "section": "problem"
   },
   "source": [
    "**15.** What are the implications of variable references of the form row['name']?\n",
    "<br>\n",
    "<br>\n",
    "<div style=\"margin-left:30px;\">\n",
    "A. The variable row is a python dictionary<br>\n",
    "B. A sqlite3 \"row_factory\" is being used<br>\n",
    "C. Cursor results are always accessed by attribute name rather than by their position<br>\n",
    "D. The variable row is a Python tuple<br>\n",
    "E. None of the above\n",
    "</div>"
   ]
  },
  {
   "cell_type": "raw",
   "metadata": {
    "number": 15,
    "section": "answer"
   },
   "source": [
    "B"
   ]
  },
  {
   "cell_type": "markdown",
   "metadata": {
    "number": 16,
    "section": "problem"
   },
   "source": [
    "**16.** Which best describes the output of the given program.\n",
    "<br>\n",
    "<br>\n",
    "<div style=\"margin-left:30px;\">\n",
    "A. A list of actor names, movie titles, and year for movies with a cast member playing the role of 'Batman'<br>\n",
    "B. Filmography of actors who played in a movie titled 'Batman'<br>\n",
    "C. Filmography of the actor who played the role of 'Batman' in the first movie containing such a role<br>\n",
    "D. Filmography of actors who played the role of 'Batman' in any movie<br>\n",
    "E. None of the above\n",
    "</div>"
   ]
  },
  {
   "cell_type": "raw",
   "metadata": {
    "number": 16,
    "section": "answer"
   },
   "source": [
    "B"
   ]
  },
  {
   "cell_type": "markdown",
   "metadata": {
    "number": 17,
    "section": "problem"
   },
   "source": [
    "**17.**\tHow might a SQL result differ from the equivalent relational algebra statement?\n",
    "<br>\n",
    "<br>\n",
    "<div style=\"margin-left:30px;\">\n",
    "A. The allowed \"null\" field values in SQL impacts the results of joins<br>\n",
    "B. SQL's GROUP BY and ORDER BY constructs control the ordering of result tuples<br>\n",
    "C. SQL allows repeated result tuples<br>\n",
    "D. SQL queries might have side-effects invoked by a trigger that change the result<br>\n",
    "E. All of the above\n",
    "</div>"
   ]
  },
  {
   "cell_type": "raw",
   "metadata": {
    "number": 17,
    "section": "answer"
   },
   "source": [
    "E"
   ]
  },
  {
   "cell_type": "markdown",
   "metadata": {
    "number": 18,
    "section": "problem"
   },
   "source": [
    "**18.** Which of the following SQL commands might be used to increase an existing relation's  degree?\n",
    "<br>\n",
    "<br>\n",
    "<div style=\"margin-left:30px;\">\n",
    "A. DROP TABLE<br>\n",
    "B. INSERT<br>\n",
    "C. ALTER TABLE<br>\n",
    "D. SAVEPOINT<br>\n",
    "E. COMMIT\n",
    "</div>"
   ]
  },
  {
   "cell_type": "raw",
   "metadata": {
    "number": 18,
    "section": "answer"
   },
   "source": [
    "C"
   ]
  },
  {
   "cell_type": "markdown",
   "metadata": {
    "number": 19,
    "section": "problem"
   },
   "source": [
    "**19.** Which of the following SQL commands might be used to increase an existing relation's cardinality?\n",
    "<br>\n",
    "<br>\n",
    "<div style=\"margin-left:30px;\">\n",
    "A. DROP TABLE<br>\n",
    "B. INSERT<br>\n",
    "C. ALTER TABLE<br>\n",
    "D. SAVEPOINT<br>\n",
    "E. COMMIT\n",
    "</div>"
   ]
  },
  {
   "cell_type": "raw",
   "metadata": {
    "number": 19,
    "section": "answer"
   },
   "source": [
    "B"
   ]
  },
  {
   "cell_type": "markdown",
   "metadata": {
    "number": 20,
    "section": "problem"
   },
   "source": [
    "**20.** What can be inferred if the two following SQL queries return identical result sets?\n",
    "<br>\n",
    "<br>\n",
    "<div style=\"margin-left:30px;\">\n",
    "SELECT S.sid, R.bid<br>\n",
    "FROM Sailors S NATURAL JOIN Reserves R<br>\n",
    "<br>\n",
    "SELECT S.sid, R.bid<br>\n",
    "FROM Sailors S NATURAL LEFT OUTER JOIN Reserves R<br>\n",
    "</div>"
   ]
  },
  {
   "cell_type": "raw",
   "metadata": {
    "number": 20,
    "section": "answer"
   },
   "source": [
    "All rows of the left table (Sailors) contain a matching row on the right table (Reserves)"
   ]
  },
  {
   "cell_type": "markdown",
   "metadata": {},
   "source": [
    "Click [here to submit](http://csbio.unc.edu/mcmillan/index.py?run=Exam.upload) your completed midterm.\n",
    "\n",
    "You can submit it as many times as you would like, but only the last submitted version will be graded. If the last submission was after the due date the final score will be reduced accordingly. "
   ]
  }
 ],
 "metadata": {
  "kernelspec": {
   "display_name": "Python 2",
   "language": "python",
   "name": "python2"
  },
  "language_info": {
   "codemirror_mode": {
    "name": "ipython",
    "version": 2
   },
   "file_extension": ".py",
   "mimetype": "text/x-python",
   "name": "python",
   "nbconvert_exporter": "python",
   "pygments_lexer": "ipython2",
   "version": "2.7.12"
  }
 },
 "nbformat": 4,
 "nbformat_minor": 0
}
