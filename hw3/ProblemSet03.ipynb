{
 "cells": [
  {
   "cell_type": "markdown",
   "metadata": {
    "course": "Comp521F16",
    "problemset": 3,
    "section": "header"
   },
   "source": [
    "<div style=\"text-align: center;\">\n",
    "<h1>The University of North Carolina at Chapel Hill</h1>\n",
    "<h1>Comp 521 Files and Databases - Fall 2016</h1>\n",
    "<h1 style=\"font-size: 250%;\">Problem Set #3</h1>\n",
    "<h1 style=\"font-size: 200%;\">Version 1.0</h1>\n",
    "<h1>Issued Monday 10/03/2016; Due Monday 10/17/2016</h1>\n",
    "</div>\n",
    "\n",
    "**Homework Information:** The answer cells in this notebook contain metadata that enable it to be automatically parsed. Thus, you must enter your answers *only* into the cells provided. Do not delete any answer cell and/or add a new one to replace it. If you do so by accident, download a new copy of the problem set's notebook and transfer your answers into it. You can introduce new 'coding' cells in an effort to test your approaches to problems, however, these introduced cells will not be considered when grading.\n",
    "\n",
    "Finally, some of the problems are probably too long to be done the night before the due date, so plan accordingly. Late problem sets will be penalized by a factor of 70.71% for each class meeting after their due date. Feel free to get help from others, but the work you submit in should be your own."
   ]
  },
  {
   "cell_type": "code",
   "execution_count": 1,
   "metadata": {
    "collapsed": true,
    "section": "signature"
   },
   "outputs": [],
   "source": [
    "# Fill in the fields as described\n",
    "class Student:\n",
    "    first = \"your given name\"\n",
    "    last = \"your last name\"\n",
    "    onyen = \"your unc onyen (the part of your email address before the '@')\"\n",
    "    pid = \"your pid\""
   ]
  },
  {
   "cell_type": "markdown",
   "metadata": {
    "section": "setup"
   },
   "source": [
    "In this problem set we will revisit the *Monkepo* data discussed in Lecture 3. You may want to revist that lecture to reaquaint yourself with the data set. Your first task will be to construct and populate a database with the following schema.\n",
    "\n",
    " <table style=\"border:none;\"><tbody>\n",
    "        <tr style=\"border:none;\">\n",
    "            <td style=\"padding:0px 20px;border:none;\" colspan=\"2\">\n",
    "            <table><tbody>\n",
    "            <tr><th colspan=\"6\" style=\"text-align:center;\">Monkepo</th></tr>\n",
    "            <tr><td><u>mid</u></td>\n",
    "                <td>name</td>\n",
    "            </tr>\n",
    "            </tbody></table>\n",
    "            </td>\n",
    "            <td style=\"padding:20px 20px;border:none;\">\n",
    "            <table><tbody>\n",
    "            <tr><th colspan=\"4\" style=\"text-align:center;\">Appearance</th></tr>\n",
    "            <tr><td><u>mid</u></td>\n",
    "                <td><u>latitude</u></td>\n",
    "                <td><u>longitude</u></td>\n",
    "                <td><u>datetime</u></td>\n",
    "            </tr>\n",
    "            </tbody></table>\n",
    "            </td>\n",
    "            <td style=\"padding:20px 20px;border:none;\">\n",
    "            <table><tbody>\n",
    "            <tr><th colspan=\"4\" style=\"text-align:center;\">Class</th></tr>\n",
    "            <tr><td><u>mid</u></td>\n",
    "                <td><u>major (1/0)</u></td>\n",
    "                <td>type</td>\n",
    "            </tr>\n",
    "            </tbody></table>\n",
    "            </td>\n",
    "        </tr>\n",
    "        </tbody></table>\n",
    "\n",
    "The *Monkepo* relation should hold just the *unique* name of a *monkepo* species and an autoincremented primary key, *mid*. When a *Monkepo* appears its location and appearance time are stored as a tuple in the *Appearance* relation. Finally, the *Class* relation is used to hold information about the major and minor class of the monkepo species. The major class is indicated by a value of *1* in the major field, and the minor class by a *0*. There should be no class entry for a *None* minor type.  \n",
    "\n",
    "Use this verison of the <a href=\"http://csbio.unc.edu/mcmillan/Media/monkepo.csv\" download>data file</a> to fill your database (it is different than the one used in lecture 3)."
   ]
  },
  {
   "cell_type": "markdown",
   "metadata": {
    "number": 1,
    "section": "problem"
   },
   "source": [
    "---\n",
    "**Part 1:** In the cell provided below write a Python fragment to create the specified database, and name it *\"monkepo.db\"* (Hint: you should investigate Python's *DateTime* module to find methods for combining the date and time values from the data file into a single attribute). You code should commit and close your database."
   ]
  },
  {
   "cell_type": "code",
   "execution_count": 2,
   "metadata": {
    "collapsed": true,
    "number": 1,
    "section": "answer"
   },
   "outputs": [],
   "source": [
    "#Enter your Python 2 code here"
   ]
  },
  {
   "cell_type": "markdown",
   "metadata": {
    "number": 2,
    "section": "problem"
   },
   "source": [
    "---\n",
    "**Part 2:** Using the database that you created in part 1, write Python function to count the frequency of appearances of each Monkepo species. Your function should take the name of your database as an argument and return a sorted list of tuples (Monkepo.name, #appearances) with the most frequent first. Implement this function in using a dictionary like we did in Lecture 3.\n",
    "\n",
    "In the cell below, enter the definition of your function, followed by a call to it, where the result is displayed via a Pandas data frame as shown in the code fragment supplied."
   ]
  },
  {
   "cell_type": "code",
   "execution_count": 3,
   "metadata": {
    "collapsed": false,
    "number": 2,
    "section": "answer"
   },
   "outputs": [
    {
     "data": {
      "text/html": [
       "<div>\n",
       "<table border=\"1\" class=\"dataframe\">\n",
       "  <thead>\n",
       "    <tr style=\"text-align: right;\">\n",
       "      <th></th>\n",
       "      <th>Name</th>\n",
       "      <th>Rating</th>\n",
       "    </tr>\n",
       "  </thead>\n",
       "  <tbody>\n",
       "    <tr>\n",
       "      <th>0</th>\n",
       "      <td>Dustin</td>\n",
       "      <td>7</td>\n",
       "    </tr>\n",
       "    <tr>\n",
       "      <th>1</th>\n",
       "      <td>Horatio</td>\n",
       "      <td>10</td>\n",
       "    </tr>\n",
       "    <tr>\n",
       "      <th>2</th>\n",
       "      <td>Lubber</td>\n",
       "      <td>2</td>\n",
       "    </tr>\n",
       "  </tbody>\n",
       "</table>\n",
       "</div>"
      ],
      "text/plain": [
       "      Name  Rating\n",
       "0   Dustin       7\n",
       "1  Horatio      10\n",
       "2   Lubber       2"
      ]
     },
     "execution_count": 3,
     "metadata": {},
     "output_type": "execute_result"
    }
   ],
   "source": [
    "import pandas\n",
    "#Enter your Python 2 code here\n",
    "\n",
    "listOfTuples = [(\"Dustin\", 7), (\"Horatio\", 10), (\"Lubber\", 2)]\n",
    "pandas.DataFrame(listOfTuples, columns=[\"Name\", \"Rating\"])"
   ]
  },
  {
   "cell_type": "markdown",
   "metadata": {
    "number": 3,
    "section": "problem"
   },
   "source": [
    "---\n",
    "**Part 3:** Implement a second version of your function to count the frequency of appearances of each Monkepo species, but this time use SQL's \"GROUP BY\" directive. The input and output of this version should be the same as the one you implemented in Part 2. Display your answer using a Pandas data frame as well."
   ]
  },
  {
   "cell_type": "code",
   "execution_count": 4,
   "metadata": {
    "collapsed": true,
    "number": 3,
    "section": "answer"
   },
   "outputs": [],
   "source": [
    "#Enter your Python 2 code here"
   ]
  },
  {
   "cell_type": "markdown",
   "metadata": {
    "number": 4,
    "section": "problem"
   },
   "source": [
    "---\n",
    "**Part 4:** Use Jupyter's [*%timeit*](http://ipython.readthedocs.io/en/stable/interactive/magics.html#magic-timeit) function to compare the performance of the two functions that you wrote in parts 2 and 3."
   ]
  },
  {
   "cell_type": "code",
   "execution_count": 5,
   "metadata": {
    "collapsed": true,
    "number": 4,
    "section": "answer"
   },
   "outputs": [],
   "source": [
    "#Enter your calls to %timeit here"
   ]
  },
  {
   "cell_type": "markdown",
   "metadata": {
    "number": 5,
    "section": "problem"
   },
   "source": [
    "---\n",
    "**Part 5:** In the following cell write a Python function that finds both the rarest and most  common monkepo species for each class. Your function should take your database name as an input and it it should return a list with with a tuple for each distinct class type and columns with the most and least common Monkepo species names."
   ]
  },
  {
   "cell_type": "code",
   "execution_count": 6,
   "metadata": {
    "collapsed": true,
    "number": 5,
    "section": "answer"
   },
   "outputs": [],
   "source": [
    "#Enter your Python 2 code here"
   ]
  },
  {
   "cell_type": "markdown",
   "metadata": {
    "number": 6,
    "section": "problem"
   },
   "source": [
    "---\n",
    "**Part 6:** One of the reasons that Monkepo appear is that they depend on supply stations in order to survive in Earth's harsh environment. The same smartphone app that Millennials use for detecting Mokepos also detects the locations of these supply stations. A list of detected stations is available for <a href=\"http://csbio.unc.edu/mcmillan/Media/stations.csv\" download>download</a> here.\n",
    "\n",
    "In the next cell you should add a new table to your database called *SupplyStations*. Make sure that you commit and close the modified database.\n",
    "\n",
    "Then write a code fragment that finds, for each supply station how many Monkepo appearances were closer to it than to any other station. Your code should produce a list of tuples (stationID, latitude, longitude, #ofNearbyMonkepo) sorted from most popular to least popular.\n",
    "\n",
    "***This problem is challenging, allow for enough time to do it!*** You can approximate the distance between a Monkepo appearance and a supply station by $\\sqrt{(latitude_{Monkepo} - latitude_{Station})^2 + (longitude_{Monkepo} - longitude_{Station})^2}$. This is not techically correct, but it is close at the scales and latitudes we are considering."
   ]
  },
  {
   "cell_type": "code",
   "execution_count": 7,
   "metadata": {
    "collapsed": true,
    "number": 6,
    "section": "answer"
   },
   "outputs": [],
   "source": [
    "#Enter your Python 2 code here"
   ]
  },
  {
   "cell_type": "markdown",
   "metadata": {
    "section": "submit"
   },
   "source": [
    "Click [here to submit](http://csbio.unc.edu/mcmillan/index.py?run=PS.upload) your completed problem set.\n",
    "\n",
    "You can submit it as many times as you would like, but only the last submitted version will be graded. If the last submission was after the due date the final score will be reduced accordingly. We do not need your database, since your Notebook should produce it."
   ]
  }
 ],
 "metadata": {
  "kernelspec": {
   "display_name": "Python 2",
   "language": "python",
   "name": "python2"
  },
  "language_info": {
   "codemirror_mode": {
    "name": "ipython",
    "version": 2
   },
   "file_extension": ".py",
   "mimetype": "text/x-python",
   "name": "python",
   "nbconvert_exporter": "python",
   "pygments_lexer": "ipython2",
   "version": "2.7.11"
  }
 },
 "nbformat": 4,
 "nbformat_minor": 0
}
