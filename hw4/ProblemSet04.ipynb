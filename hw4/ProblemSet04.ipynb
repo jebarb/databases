{
 "cells": [
  {
   "cell_type": "markdown",
   "metadata": {
    "course": "Comp521F16",
    "problemset": 4,
    "section": "header"
   },
   "source": [
    "<div style=\"text-align: center;\">\n",
    "<h1>The University of North Carolina at Chapel Hill</h1>\n",
    "<h1>Comp 521 Files and Databases - Fall 2016</h1>\n",
    "<h1 style=\"font-size: 250%;\">Problem Set #4</h1>\n",
    "<h1 style=\"font-size: 200%;\">Version 1.0</h1>\n",
    "<h1>Issued Wednesday 11/02/2016; Due Monday 11/14/2016</h1>\n",
    "</div>\n",
    "\n",
    "**Homework Information:** The answer cells in this notebook contain metadata that enable it to be automatically parsed. Thus, you must enter your answers *only* into the cells provided. Do not delete any answer cell and/or add a new one to replace it. If you do so by accident, download a new copy of the problem set's notebook and transfer your answers into it. You can introduce new 'coding' cells in an effort to test your approaches to problems, however, these introduced cells will not be considered when grading.\n",
    "\n",
    "Finally, some of the problems are probably too long to be done the night before the due date, so plan accordingly. Late problem sets will be penalized by a factor of 70.71% for each class meeting after their due date. Feel free to get help from others, but the work you submit in should be your own."
   ]
  },
  {
   "cell_type": "code",
   "execution_count": 1,
   "metadata": {
    "collapsed": true,
    "section": "signature"
   },
   "outputs": [],
   "source": [
    "# Fill in the fields as described\n",
    "class Student:\n",
    "    first = \"James\"\n",
    "    last = \"Barbour\"\n",
    "    onyen = \"jebarbou\"\n",
    "    pid = \"720076615\""
   ]
  },
  {
   "cell_type": "markdown",
   "metadata": {
    "number": 1,
    "section": "problem"
   },
   "source": [
    "---\n",
    "**Problem 1:** Using the <a href=\"http://csbio.unc.edu/mcmillan/Media/movies.db\" download>movies</a> database from problem set #2, write a Python function to print filmographies of all of the actors from a given **movie title**. The format of your output should be:\n",
    "\n",
    "    Actor1.name,\n",
    "       Movie1.title, Movie1.release\n",
    "       Movie2.title, Movie2.release\n",
    "       Movie3.title, Movie3.release\n",
    "       Movie4.title, Movie4.release\n",
    "           .\n",
    "           .\n",
    "           .\n",
    "    Actor2.name,\n",
    "       Movie1.title, Movie1.release\n",
    "       Movie2.title, Movie2.release\n",
    "       Movie3.title, Movie3.release\n",
    "       Movie4.title, Movie4.release\n",
    "           .\n",
    "           .\n",
    "           .\n",
    "\n",
    "Where Actor1, Actor2, are all members of the cast in the given **movie title**, which should appear in all of their filmographies."
   ]
  },
  {
   "cell_type": "code",
   "execution_count": 2,
   "metadata": {
    "collapsed": true,
    "number": 1,
    "section": "answer"
   },
   "outputs": [],
   "source": [
    "#Enter your Python 2 code here"
   ]
  },
  {
   "cell_type": "markdown",
   "metadata": {
    "number": 2,
    "section": "problem"
   },
   "source": [
    "---\n",
    "** Problem 2:** Use Jupyter's [*%timeit*](http://ipython.readthedocs.io/en/stable/interactive/magics.html#magic-timeit) function to time the function that you wrote for the movie \"Blade Runner\"."
   ]
  },
  {
   "cell_type": "code",
   "execution_count": 3,
   "metadata": {
    "collapsed": true,
    "number": 2,
    "section": "answer"
   },
   "outputs": [],
   "source": [
    "#Enter your Python 2 code here"
   ]
  },
  {
   "cell_type": "raw",
   "metadata": {
    "number": 21,
    "section": "answer"
   },
   "source": [
    "Copy the output of your %timeit here"
   ]
  },
  {
   "cell_type": "markdown",
   "metadata": {
    "number": 3,
    "section": "problem"
   },
   "source": [
    "---\n",
    "**Problem 3:** Write Python code to build an index on the Cast relation of movies.db with the search key (aid, mid). Then rerun your function from Problem #2 for \"Blade Runner\" using *%timeit*."
   ]
  },
  {
   "cell_type": "code",
   "execution_count": 4,
   "metadata": {
    "collapsed": true,
    "number": 3,
    "section": "answer"
   },
   "outputs": [],
   "source": [
    "#Enter Python 2 code to build your index here followed by the %timeit command"
   ]
  },
  {
   "cell_type": "raw",
   "metadata": {
    "number": 31,
    "section": "answer"
   },
   "source": [
    "Copy the output of  %timeit here"
   ]
  },
  {
   "cell_type": "markdown",
   "metadata": {
    "number": 4,
    "section": "problem"
   },
   "source": [
    "---\n",
    "Suppose that a certain relation has 250,000 records and a B<sup>+</sup>-tree index is built on it with 24 keys per node, both leaf and interior.\n",
    "\n",
    "**Problem 4:** Assume that the records are loaded using a bulk-loader that fills each node, with the possible exception of the root, to at least 2/3 of its capacity. How many levels will be in the final tree? How many interior *steering* nodes will the tree have?"
   ]
  },
  {
   "cell_type": "raw",
   "metadata": {
    "number": 4,
    "section": "answer"
   },
   "source": [
    "Levels:\n",
    "Steering Nodes:"
   ]
  },
  {
   "cell_type": "markdown",
   "metadata": {
    "number": 5,
    "section": "problem"
   },
   "source": [
    "**Problem 5:** Assume that the records were loaded via a series of insertions and deletions that resulted in a B<sup>+</sup>-tree where as many nodes as possible arefilled to their maximum capacity. How many levels will be in this tree? How many interior *steering* nodes will this tree have?"
   ]
  },
  {
   "cell_type": "raw",
   "metadata": {
    "number": 5,
    "section": "answer"
   },
   "source": [
    "Levels:\n",
    "Steering Nodes:"
   ]
  },
  {
   "cell_type": "markdown",
   "metadata": {
    "number": 6,
    "section": "problem"
   },
   "source": [
    "**Problem 6:** Assume that the records were loaded via a series of insertions \n",
    "and deletions that resulted in a B<sup>+</sup>-tree where <i>every</i> node is filled to its minimum capacity. How many levels will be in this tree? How many interior *steering* nodes will this tree have?</p>\n"
   ]
  },
  {
   "cell_type": "raw",
   "metadata": {
    "number": 6,
    "section": "answer"
   },
   "source": [
    "Levels:\n",
    "Steering Nodes:"
   ]
  },
  {
   "cell_type": "markdown",
   "metadata": {
    "number": 7,
    "section": "problem"
   },
   "source": [
    "Consider the tree shown below:\n",
    "\n",
    "<div align=\"center\"><img title=\"comp521f10pset4p1tree.png\" src=\"http://csbio.unc.edu/mcmillan/Media/comp521PS4Tree.png\" width=\"509\" height=\"109\" />\n",
    "</div>\n",
    "\n",
    "**Problem 7:** Suppose this is an ISAM tree.\n",
    "How many leaf nodes will have overflow pages after inserting the\n",
    "following elements: (16, 17, 18) and then deleting the elements: (11, 12, 16)?</p>\n"
   ]
  },
  {
   "cell_type": "raw",
   "metadata": {
    "number": 7,
    "section": "answer"
   },
   "source": [
    "Enter your answer here"
   ]
  },
  {
   "cell_type": "markdown",
   "metadata": {
    "number": 8,
    "section": "problem"
   },
   "source": [
    "**Problem 8:** Suppose this is a B+ tree.\n",
    "Consider the resulting tree after inserting the following elements (16, 17, 18).\n",
    "What will be the contents of the right-most non-leaf (interior) node?"
   ]
  },
  {
   "cell_type": "raw",
   "metadata": {
    "number": 8,
    "section": "answer"
   },
   "source": [
    "Enter your answer here"
   ]
  },
  {
   "cell_type": "markdown",
   "metadata": {
    "number": 9,
    "section": "problem"
   },
   "source": [
    "---\n",
    "Use the following simple hashing function, key = aid % 1024, to build indexes\n",
    "for the *Actors* and *Cast* tables of the movies.db database using Python.\n",
    "Use your indexes to answer the following questions.\n",
    "\n",
    "**Problem 9:** What is the occupancy of (number of records in) the largest, smallest, and average bucket of the *Actors* hash index *aid*?</p>"
   ]
  },
  {
   "cell_type": "raw",
   "metadata": {
    "number": 9,
    "section": "answer"
   },
   "source": [
    "Largest:\n",
    "Smallest:\n",
    "Average:"
   ]
  },
  {
   "cell_type": "markdown",
   "metadata": {
    "number": 10,
    "section": "problem"
   },
   "source": [
    "**Problem 10:** What is the occupancy of (number of records in) the largest, smallest, and average bucket of the *Cast* hash index on *aid*?</p>"
   ]
  },
  {
   "cell_type": "raw",
   "metadata": {
    "number": 10,
    "section": "answer"
   },
   "source": [
    "Largest:\n",
    "Smallest:\n",
    "Average:"
   ]
  },
  {
   "cell_type": "markdown",
   "metadata": {
    "number": 11,
    "section": "problem"
   },
   "source": [
    "**Problem 11:** Using your indices estimate the number of tests used when joining Actors and Roles in a query such as the following:</p>\n",
    "<pre>\n",
    "    SELECT A.name, C.role\n",
    "    FROM Actors A, Cast C\n",
    "    WHERE A.aid=R.aid\n",
    "</pre>"
   ]
  },
  {
   "cell_type": "raw",
   "metadata": {
    "number": 11,
    "section": "answer"
   },
   "source": [
    "Enter your answer here"
   ]
  },
  {
   "cell_type": "markdown",
   "metadata": {
    "number": 12,
    "section": "problem"
   },
   "source": [
    "**Problem 12:** Of the two relations, *Actors* and *Cast* which would benefit more by using a dynamic hashing scheme? Explain why."
   ]
  },
  {
   "cell_type": "raw",
   "metadata": {
    "number": 12,
    "section": "answer"
   },
   "source": [
    "Enter your answer here"
   ]
  },
  {
   "cell_type": "markdown",
   "metadata": {
    "section": "submit"
   },
   "source": [
    "Click [here to submit](http://csbio.unc.edu/mcmillan/index.py?run=PS.upload) your completed problem set. **Make sure that you upload it wiht the correct problem set number!**\n",
    "\n",
    "You can submit it as many times as you would like, but only the last submitted version will be graded. If the last submission was after the due date the final score will be reduced accordingly. We do not need your database, since your Notebook should produce it."
   ]
  }
 ],
 "metadata": {
  "kernelspec": {
   "display_name": "Python 2",
   "language": "python",
   "name": "python2"
  },
  "language_info": {
   "codemirror_mode": {
    "name": "ipython",
    "version": 2
   },
   "file_extension": ".py",
   "mimetype": "text/x-python",
   "name": "python",
   "nbconvert_exporter": "python",
   "pygments_lexer": "ipython2",
   "version": "2.7.12"
  }
 },
 "nbformat": 4,
 "nbformat_minor": 0
}
