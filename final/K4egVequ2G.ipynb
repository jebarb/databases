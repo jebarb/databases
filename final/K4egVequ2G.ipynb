{
 "cells": [
  {
   "cell_type": "markdown",
   "metadata": {
    "course": "Comp521F16",
    "exam": "Final",
    "section": "header"
   },
   "source": [
    "<div style=\"text-align: center;\">\n",
    "\n",
    "<h1>The University of North Carolina at Chapel Hill</h1>\n",
    "\n",
    "<h1>Comp 521 Files and Databases - Fall 2016</h1>\n",
    "\n",
    "<h1 style=\"font-size: 200%;\">Final Exam</h1>\n",
    "\n",
    "<h2>40 questions - 180 minutes</h2>\n",
    "\n",
    "<h1>Friday 12/16/2016</h1>\n",
    "\n",
    "</div>\n",
    "\n",
    "\n",
    "\n",
    "**Exam Information:** Answer each question using the cell immediately following it. For multiple choice questions enter only the *one* best answer. The cells in this notebook contain metadata that enables it to be automatically parsed. Thus, you must enter your answers *only* into the cells provided. ***Do not include justifications or explanations for your answers***, as they tend to confuse the grading system. Do not delete any answer cell and add a new one to replace it."
   ]
  },
  {
   "cell_type": "code",
   "execution_count": 1,
   "metadata": {
    "collapsed": true,
    "section": "signature"
   },
   "outputs": [],
   "source": [
    "# Replace the following strings with the requested information\n",
    "# Make sure each string is enclosed in quotation marks\n",
    "class Student:\n",
    "    first = \"James\"\n",
    "    last = \"Barbour\"\n",
    "    onyen = \"jebarbou\"\n",
    "    pid = \"720076615\""
   ]
  },
  {
   "cell_type": "markdown",
   "metadata": {
    "number": 1,
    "section": "problem"
   },
   "source": [
    "---\n",
    "**Problem 1:** Of the following, which best characterizes the objective of database table normalization?\n",
    "\n",
    "<ol style=\"list-style-type: upper-alpha; margin-left:30px;\">\n",
    "<li>Evaluating queries more efficiently</li>\n",
    "<li>Efficient testing of functional dependencies</li>\n",
    "<li>Creating more independent relations</li>\n",
    "<li>Minimizing redundancy</li>\n",
    "<li>None of the above</li>\n",
    "</ol>"
   ]
  },
  {
   "cell_type": "raw",
   "metadata": {
    "number": 1,
    "section": "answer"
   },
   "source": [
    "D"
   ]
  },
  {
   "cell_type": "markdown",
   "metadata": {
    "number": 2,
    "section": "problem"
   },
   "source": [
    "---\n",
    "**Problem 2:** What is the primary technique used to normalize tables?\n",
    "\n",
    "<ol style=\"list-style-type: upper-alpha; margin-left:30px;\">\n",
    "<li>Vertical decomposition</li>\n",
    "<li>Horizontal decomposition</li>\n",
    "<li>Table Merging</li>\n",
    "<li>SQL Assertions</li>\n",
    "<li>None of the above</li>\n",
    "</ol>"
   ]
  },
  {
   "cell_type": "raw",
   "metadata": {
    "number": 2,
    "section": "answer"
   },
   "source": [
    "B"
   ]
  },
  {
   "cell_type": "markdown",
   "metadata": {
    "number": 3,
    "section": "problem"
   },
   "source": [
    "---\n",
    "**Problem 3:** Of the following, which are true of a functional dependency?\n",
    "\n",
    "<ol style=\"list-style-type: upper-alpha; margin-left:30px;\">\n",
    "<li>They are a type of integrity constraint</li>\n",
    "<li>They can't be derived from a table instance</li>\n",
    "<li>They are a generalization of the *key* concept</li>\n",
    "<li>They hold for all legal instances of the relation for which they are defined</li>\n",
    "<li>All of the above</li>\n",
    "</ol>"
   ]
  },
  {
   "cell_type": "raw",
   "metadata": {
    "number": 3,
    "section": "answer"
   },
   "source": [
    "E"
   ]
  },
  {
   "cell_type": "markdown",
   "metadata": {
    "number": 4,
    "section": "problem"
   },
   "source": [
    "---\n",
    "**Problem 4:** Which of the following statements is ***false*** regarding the minimal cover of a set of functional dependencies?\n",
    "\n",
    "<ol style=\"list-style-type: upper-alpha; margin-left:30px;\">\n",
    "<li>It is unique</li>\n",
    "<li>The right-hand sides of the minimal cover are all single attributes</li>\n",
    "<li>All left-hand sides of the minimal cover have a minimal set of attributes</li>\n",
    "<li>It's closure is equivalent to the closure of the original set of functional dependencies</li>\n",
    "<li>None of its dependencies can be removed</li>\n",
    "</ol>"
   ]
  },
  {
   "cell_type": "raw",
   "metadata": {
    "number": 4,
    "section": "answer"
   },
   "source": [
    "B"
   ]
  },
  {
   "cell_type": "markdown",
   "metadata": {
    "number": 5,
    "section": "problem"
   },
   "source": [
    "---\n",
    "**Problem 5:** Which of the following are not consequences of database redundancy?\n",
    "\n",
    "<ol style=\"list-style-type: upper-alpha; margin-left:30px;\">\n",
    "<li>Redundant storage</li>\n",
    "<li>Update anomalies</li>\n",
    "<li>Insertion anomalies</li>\n",
    "<li>Deletion anomalies</li>\n",
    "<li>Lossless-Join Decompositions</li>\n",
    "</ol>"
   ]
  },
  {
   "cell_type": "raw",
   "metadata": {
    "number": 5,
    "section": "answer"
   },
   "source": [
    "E"
   ]
  },
  {
   "cell_type": "markdown",
   "metadata": {},
   "source": [
    "---\n",
    "A certain web-based retailer relies on multiple warehouses. A number identifies items. Line managers, who work at only one warehouse, are responsible for stocking one or more items. The initial design of an inventory database includes the following relation:\n",
    "\n",
    "    CREATE TABLE Inventory(\n",
    "\t    Warehouse TEXT,\n",
    "\t    Item INTEGER,\n",
    "\t    Line_manager INTEGER,\n",
    "\t    Quantity\t INTEGER,\n",
    "\t    Row   INTEGER,\n",
    "\t    Status TEXT,\n",
    "\t    PRIMARY KEY(Warehouse, Item)\n",
    "    )"
   ]
  },
  {
   "cell_type": "markdown",
   "metadata": {
    "number": 6,
    "section": "problem"
   },
   "source": [
    "**Problem 6:** Which of the following functional dependency sets capture all of the described relationships between the attributes of Inventory?\n",
    "\n",
    "<ol style=\"list-style-type: upper-alpha; margin-left:30px;\">\n",
    "<li>WI &rarr; LQRS</li>\n",
    "<li>WI &rarr; LQRS, L &rarr; W</li>\n",
    "<li>WI &rarr; LQRS, W &rarr; L</li>\n",
    "<li>WIL &rarr; QRS, L &rarr; W</li>\n",
    "<li>WIL &rarr; QRS, W &rarr; L</li>\n",
    "</ol>"
   ]
  },
  {
   "cell_type": "raw",
   "metadata": {
    "number": 6,
    "section": "answer"
   },
   "source": [
    "B"
   ]
  },
  {
   "cell_type": "markdown",
   "metadata": {
    "number": 7,
    "section": "problem"
   },
   "source": [
    "---\n",
    "**Problem 7:** What is redundant in the proposed table?\n",
    "\n",
    "<ol style=\"list-style-type: upper-alpha; margin-left:30px;\">\n",
    "<li>Items appears in multiple tuples</li>\n",
    "<li>Warehouse-Item pairs</li>\n",
    "<li>Line-manager-Warehouse pairs</li>\n",
    "<li>Item-Line-manager pairs</li>\n",
    "<li>There is no redundancy</li>\n",
    "</ol>"
   ]
  },
  {
   "cell_type": "raw",
   "metadata": {
    "number": 7,
    "section": "answer"
   },
   "source": [
    "C"
   ]
  },
  {
   "cell_type": "markdown",
   "metadata": {
    "number": 8,
    "section": "problem"
   },
   "source": [
    "---\n",
    "**Problem 8:** Which of the following decompositions of Inventory are lossless, dependency preserving, and in BCNF?\n",
    "\n",
    "<ol style=\"list-style-type: upper-alpha; margin-left:30px;\">\n",
    "<li>WIQRS, WL</li>\n",
    "<li>WIQRS, LW</li>\n",
    "<li>LIQRS, LW</li>\n",
    "<li>WIQRS, WIL</li>\n",
    "<li>None of the above</li>\n",
    "</ol>"
   ]
  },
  {
   "cell_type": "raw",
   "metadata": {
    "number": 8,
    "section": "answer"
   },
   "source": [
    "C"
   ]
  },
  {
   "cell_type": "markdown",
   "metadata": {
    "number": 9,
    "section": "problem"
   },
   "source": [
    "---\n",
    "**Problem 9:** Which of the following schedules is serializable?\n",
    "\n",
    "<ol style=\"list-style-type: upper-alpha; margin-left:30px;\">\n",
    "<li>R<sub>1</sub>(A), W<sub>2</sub>(A), R<sub>2</sub>(B), W<sub>1</sub>(A), W<sub>1</sub>(B)</li>\n",
    "<li>R<sub>1</sub>(A), W<sub>1</sub>(A), W<sub>2</sub>(A), W<sub>1</sub>(B), R<sub>2</sub>(B)</li>\n",
    "<li>W<sub>2</sub>(A), R<sub>1</sub>(A), W<sub>1</sub>(A), W<sub>1</sub>(B), R<sub>2</sub>(B)</li>\n",
    "<li>R<sub>1</sub>(A), W<sub>1</sub>(A), W<sub>2</sub>(A), R<sub>2</sub>(B), W<sub>1</sub>(B)</li>\n",
    "<li>None of the above</li>\n",
    "</ol>"
   ]
  },
  {
   "cell_type": "raw",
   "metadata": {
    "number": 9,
    "section": "answer"
   },
   "source": [
    "D"
   ]
  },
  {
   "cell_type": "markdown",
   "metadata": {
    "number": 10,
    "section": "problem"
   },
   "source": [
    "---\n",
    "**Problem 10:** Which of the following database features creates the possibility of deadlock?\n",
    "\n",
    "<ol style=\"list-style-type: upper-alpha; margin-left:30px;\">\n",
    "<li>Error recovery</li>\n",
    "<li>Locks</li>\n",
    "<li>Aborting transactions</li>\n",
    "<li>Committing transactions</li>\n",
    "<li>All of the above</li>\n",
    "</ol>"
   ]
  },
  {
   "cell_type": "raw",
   "metadata": {
    "number": 10,
    "section": "answer"
   },
   "source": [
    "B"
   ]
  },
  {
   "cell_type": "markdown",
   "metadata": {
    "number": 11,
    "section": "problem"
   },
   "source": [
    "---\n",
    "Consider the following relations:\n",
    "\n",
    "    Dept(did, dname, location, managerid)\n",
    "    Emp(eid, dept, name, sal)\n",
    "\n",
    "Where *managerid* is a foreign key referencing *eid*, and *dept* is a foreign key referencing *did*. Mangers are members of division departments that have a common location. Division managers are members of the corporate department, located at the headquarters, and are managed by a vice-president who is also a member of the corporate department she manages.\n",
    "\n",
    "The following queries are most important:\n",
    "\n",
    "<p style=margin-left:20px>Listing the names of managers for each department at a specified location.<br>\n",
    "Finding the total salary of a department's employees.</p>\n",
    "\n",
    "**Problem 11:** Which index best suits this database design?\n",
    "\n",
    "<ol style=\"list-style-type: upper-alpha; margin-left:30px;\">\n",
    "<li>A hash index on Dept.did</li>\n",
    "<li>A B+-tree index on Emp.sal</li>\n",
    "<li>A hash index on Emp.dept</li>\n",
    "<li>A B+-tree index on Emp.name</li>\n",
    "<li>A hash index on Dept.managerid</li>\n",
    "</ol>"
   ]
  },
  {
   "cell_type": "raw",
   "metadata": {
    "number": 11,
    "section": "answer"
   },
   "source": [
    "C (actual answer: B+-index on Emp.(dept,sal)?)"
   ]
  },
  {
   "cell_type": "markdown",
   "metadata": {
    "number": 12,
    "section": "problem"
   },
   "source": [
    "---\n",
    "**Problem 12:** Upon which attribute might a horizontal decomposition be considered?\n",
    "\n",
    "<ol style=\"list-style-type: upper-alpha; margin-left:30px;\">\n",
    "<li>Dept.dname</li>\n",
    "<li>Dept.location</li>\n",
    "<li>Dept.managerid</li>\n",
    "<li>Emp.name</li>\n",
    "<li>Emp.sal</li>\n",
    "</ol>"
   ]
  },
  {
   "cell_type": "raw",
   "metadata": {
    "number": 12,
    "section": "answer"
   },
   "source": [
    "C"
   ]
  },
  {
   "cell_type": "markdown",
   "metadata": {
    "number": 13,
    "section": "problem"
   },
   "source": [
    "---\n",
    "**Problem 13:** Clustering the Dept relation over which of the following attributes pairs would be most beneficial for this design?\n",
    "\n",
    "<ol style=\"list-style-type: upper-alpha; margin-left:30px;\">\n",
    "<li>&lt;location, dname&gt;</li>\n",
    "<li>&lt;dname, location&gt;</li>\n",
    "<li>&lt;location, managerid&gt;</li>\n",
    "<li>&lt;dname, managerid&gt;</li>\n",
    "<li>&lt;managerid, location&gt;</li>\n",
    "</ol>"
   ]
  },
  {
   "cell_type": "raw",
   "metadata": {
    "number": 13,
    "section": "answer"
   },
   "source": [
    "C"
   ]
  },
  {
   "cell_type": "markdown",
   "metadata": {
    "number": 14,
    "section": "problem"
   },
   "source": [
    "---\n",
    "**Problem 14:** How might one improve the performance of the following query?\n",
    "\n",
    "    SELECT E.name, D.dname\n",
    "    FROM Emp E, Dept D\n",
    "    WHERE E.dept = D.did AND E.eid in (\n",
    "        SELECT managerid\n",
    "        FROM Dept\n",
    "        WHERE location=?)\n",
    "\n",
    "<ol style=\"list-style-type: upper-alpha; margin-left:30px;\">\n",
    "<li>By saving the nested query as a temporary table</li>\n",
    "<li>By adding an index on managerid of the Dept relation</li>\n",
    "<li>By adding an index on name of the Emp relation</li>\n",
    "<li>By rewriting the query using a single query block</li>\n",
    "<li>All of the above</li>\n",
    "</ol>"
   ]
  },
  {
   "cell_type": "raw",
   "metadata": {
    "number": 14,
    "section": "answer"
   },
   "source": [
    "B"
   ]
  },
  {
   "cell_type": "markdown",
   "metadata": {
    "number": 15,
    "section": "problem"
   },
   "source": [
    "---\n",
    "**Problem 15:** When a transaction is aborted, which of the following may be performed by the DBMS?\n",
    "\n",
    "<ol style=\"list-style-type: upper-alpha; margin-left:30px;\">\n",
    "<li>Changes to pages are undone</li>\n",
    "<li>Its locks are freed</li>\n",
    "<li>It is rescheduled</li>\n",
    "<li>Other transactions are aborted</li>\n",
    "<li>All of the above</li>\n",
    "</ol>"
   ]
  },
  {
   "cell_type": "raw",
   "metadata": {
    "number": 15,
    "section": "answer"
   },
   "source": [
    "E"
   ]
  },
  {
   "cell_type": "markdown",
   "metadata": {
    "number": 16,
    "section": "problem"
   },
   "source": [
    "---\n",
    "**Problem 16:** Which of the following might have the smallest Log Sequence Number (LSN) at the time of a crash?\n",
    "\n",
    "<ol style=\"list-style-type: upper-alpha; margin-left:30px;\">\n",
    "<li>The most recent checkpoint</li>\n",
    "<li>A recLSN in some dirty page of the buffer pool</li>\n",
    "<li>A pageLSN flushed by an uncompleted transaction</li>\n",
    "<li>The lastLSN of the oldest transaction table entry</li>\n",
    "<li>In general, it cannot be determined</li>\n",
    "</ol>"
   ]
  },
  {
   "cell_type": "raw",
   "metadata": {
    "number": 16,
    "section": "answer"
   },
   "source": [
    "B"
   ]
  },
  {
   "cell_type": "markdown",
   "metadata": {
    "number": 17,
    "section": "problem"
   },
   "source": [
    "---\n",
    "**Problem 17:** Which of the following best summarizes the purpose of compensation log record (CLR)?\n",
    "\n",
    "<ol style=\"list-style-type: upper-alpha; margin-left:30px;\">\n",
    "<li>They keep track the progress of the Redo stage of the ARIES algorithm</li>\n",
    "<li>They keep track the progress of the Undo stage of the ARIES algorithm</li>\n",
    "<li>They represent checkpoints for handling crashes occurs during crash recovery</li>\n",
    "<li>They track the records that are restored after a crash</li>\n",
    "<li>All of the above</li>\n",
    "</ol>"
   ]
  },
  {
   "cell_type": "raw",
   "metadata": {
    "number": 17,
    "section": "answer"
   },
   "source": [
    "B"
   ]
  },
  {
   "cell_type": "markdown",
   "metadata": {
    "number": 18,
    "section": "problem"
   },
   "source": [
    "---\n",
    "**Problem 18:** Which of the following attributes are common to *Pig* and *Hive*?\n",
    "<ol style=\"list-style-type: upper-alpha; margin-left:30px;\">\n",
    "<li>The need to define a schema</li>\n",
    "<li>They are translated into distributed Map-Reduce jobs</li>\n",
    "<li>Resembling a procedural scripting language</li>\n",
    "<li>Both can operate on and generate collections of non-homogenous tuples called bags</li>\n",
    "<li>All of the above</li>\n",
    "</ol>"
   ]
  },
  {
   "cell_type": "raw",
   "metadata": {
    "number": 18,
    "section": "answer"
   },
   "source": [
    "B"
   ]
  },
  {
   "cell_type": "markdown",
   "metadata": {
    "number": 19,
    "section": "problem"
   },
   "source": [
    "---\n",
    "**Problem 19:** Which of the following is an advantage of Hadoop over a relational database?\n",
    "<ol style=\"list-style-type: upper-alpha; margin-left:30px;\">\n",
    "<li>A long series of operations can be aborted leaving all data in its original state</li>\n",
    "<li>It replicates data to make the system more reliable</li>\n",
    "<li>It supports massive and scalable processing of large datasets</li>\n",
    "<li>The results of a repeated query might be inconsistent</li>\n",
    "<li>It requires fewer hardware resources</li>\n",
    "</ol>"
   ]
  },
  {
   "cell_type": "raw",
   "metadata": {
    "number": 19,
    "section": "answer"
   },
   "source": [
    "C"
   ]
  },
  {
   "cell_type": "markdown",
   "metadata": {
    "number": 20,
    "section": "problem"
   },
   "source": [
    "---\n",
    "**Problem 20:** How does a nested subquery specified in *Hive* differ from a similar nested query in *SQL*?\n",
    "<ol style=\"list-style-type: upper-alpha; margin-left:30px;\">\n",
    "<li>The inner query is materialized as a named table</li>\n",
    "<li>The inner query can only appear in the FROM clause</li>\n",
    "<li></li>\n",
    "<li>The results of a repeated query might be inconsistent</li>\n",
    "<li>It requires fewer hardware resources</li>\n",
    "</ol>"
   ]
  },
  {
   "cell_type": "raw",
   "metadata": {
    "number": 20,
    "section": "answer"
   },
   "source": [
    "B"
   ]
  },
  {
   "cell_type": "markdown",
   "metadata": {
    "number": 21,
    "section": "problem"
   },
   "source": [
    "Consider the following valid instance of a relation:\n",
    "\n",
    "| sid\t| name\t | userid\t | age\t | gpa |\n",
    "|:------|:-------|:----------|:------|:----|\n",
    "|50000\t|Dave\t |dave@cs\t |19\t |3.3  |\n",
    "|53666\t|Jones\t |jones@cs\t |18\t |3.4  |\n",
    "|53688\t|Smith\t |smith@ee\t |18\t |3.2  |\n",
    "|53650\t|Smith\t |smith@math |19\t |3.8  |\n",
    "|53831\t|Madayan |mada@music |11\t |1.8  |\n",
    "|53832\t|Guldu\t |guldu@music|12\t |2.0  |\n",
    "\n",
    "---\n",
    "**Problem 21:** Which of the following can you infer is *not* a candidate key based on this instance?\n",
    "\n",
    "<ol style=\"list-style-type: upper-alpha; margin-left:30px;\">\n",
    "<li>sid</li>\n",
    "<li>name</li>\n",
    "<li>userid</li>\n",
    "<li>&lt;name, age&gt;</li>\n",
    "<li>Cannot be determined</li>\n",
    "</ol>"
   ]
  },
  {
   "cell_type": "raw",
   "metadata": {
    "number": 21,
    "section": "answer"
   },
   "source": [
    "D"
   ]
  },
  {
   "cell_type": "markdown",
   "metadata": {
    "number": 22,
    "section": "problem"
   },
   "source": [
    "---\n",
    "**Problem 22:** Which of the following can you deduce to be a candidate key for the relation shown?\n",
    "\n",
    "<ol style=\"list-style-type: upper-alpha; margin-left:30px;\">\n",
    "<li>sid</li>\n",
    "<li>name</li>\n",
    "<li>userid</li>\n",
    "<li>&lt;name, age&gt;</li>\n",
    "<li>Cannot be determined</li>\n",
    "</ol>"
   ]
  },
  {
   "cell_type": "raw",
   "metadata": {
    "number": 22,
    "section": "answer"
   },
   "source": [
    "A"
   ]
  },
  {
   "cell_type": "markdown",
   "metadata": {
    "number": 23,
    "section": "problem"
   },
   "source": [
    "---\n",
    "**Problem 23:** Which of the following best describes the result of the relational algebra statement:\n",
    "\n",
    "<p style=\"margin-left:32px;\">&pi;<sub>StudentId1</sub>(&sigma;<sub>Course1&ne;Course2</sub>(<br>\n",
    "&nbsp;&nbsp;&nbsp;&nbsp;&nbsp;&nbsp;&nbsp;&nbsp;&nbsp;&nbsp;&rho;(T<sub>1</sub>(1&rarr;StudentId1, 2&rarr;Course1, 3&rarr;Semester1, 4&rarr;Grade1), Transcript)\n",
    "&#x2a1d;<sub>StudentId1=StudentId2</sub><br>\n",
    "&nbsp;&nbsp;&nbsp;&nbsp;&nbsp;&nbsp;&nbsp;&nbsp;&nbsp;&nbsp;&rho;(T<sub>2</sub>(1&rarr;StudentId2, 2&rarr;Course2, 3&rarr;Semester2, 4&rarr;Grade2), Transcript)))</p>\n",
    "\n",
    "<ol style=\"list-style-type: upper-alpha; margin-left:30px;\">\n",
    "<li>IDs of students who have taken at least two different courses</li>\n",
    "<li>IDs of students who have taken the same course twice</li>\n",
    "<li>IDs of students who have taken exactly one course</li>\n",
    "<li>IDs of students who have taken exactly two courses</li>\n",
    "<li>None of the above</li>\n",
    "</ol>"
   ]
  },
  {
   "cell_type": "raw",
   "metadata": {
    "number": 23,
    "section": "answer"
   },
   "source": [
    "A"
   ]
  },
  {
   "cell_type": "markdown",
   "metadata": {
    "number": 24,
    "section": "problem"
   },
   "source": [
    "---\n",
    "**Problem 24:** Which of the following SQL statements is equivalent to the relational algebra expression\n",
    "\n",
    "<p style=\"margin-left:32px;\">&pi;<sub>Name</sub>(Professor &#x2a1d;<sub>Id=ProfId</sub> &sigma;<sub>Semester='F2016'</sub>(Teaching))</p>\n",
    "\n",
    "<ol style=\"list-style-type: upper-alpha; margin-left:30px;\">\n",
    "<li>SELECT P.Name<br>\n",
    "     FROM Professor P, Teaching T<br>\n",
    "     WHERE P.Id = T.ProfId<br>\n",
    "     AND T.Semester = 'F2016'<br><br>\n",
    "</li>\n",
    "<li>SELECT Name<br>\n",
    "     FROM Professor<br>\n",
    "     WHERE Id IN (<br>\n",
    "     &nbsp;&nbsp;&nbsp;&nbsp;&nbsp;&nbsp;&nbsp;&nbsp;SELECT ProfId<br>\n",
    "     &nbsp;&nbsp;&nbsp;&nbsp;&nbsp;&nbsp;&nbsp;&nbsp;FROM Teaching<br>\n",
    "     &nbsp;&nbsp;&nbsp;&nbsp;&nbsp;&nbsp;&nbsp;&nbsp;WHERE Semester = 'F2016')<br><br>\n",
    "</li>\n",
    "<li>SELECT UNIQUE P.Name<br>\n",
    "     FROM Professor P, Teaching T<br>\n",
    "     GROUP BY  T.Semester<br>\n",
    "     HAVING T.Semester = 'F2016'<br><br>\n",
    "</li>\n",
    "<li>SELECT COUNT(P.Name)<br>\n",
    "     FROM Professor P, Teaching T<br>\n",
    "     WHERE P.Id = T.ProfId<br>\n",
    "     AND T.Semester = 'F2016'<br><br>\n",
    "</li>\n",
    "<li>None of the above</li>\n",
    "</ol>"
   ]
  },
  {
   "cell_type": "raw",
   "metadata": {
    "number": 24,
    "section": "answer"
   },
   "source": [
    "B"
   ]
  },
  {
   "cell_type": "markdown",
   "metadata": {
    "number": 25,
    "section": "problem"
   },
   "source": [
    "---\n",
    "**Problem 25:** Which of the following happens if a page is requested when all pages in the buffer pool are dirty?\n",
    "\n",
    "<ol style=\"list-style-type: upper-alpha; margin-left:30px;\">\n",
    "<li>All pages from the buffer pool are written to memory</li>\n",
    "<li>The size of the buffer pool is grown</li>\n",
    "<li>The transaction is aborted</li>\n",
    "<li>The buffer manager chooses among unpinned pages one to flush based on the replacement policy</li>\n",
    "<li>None of the above</li>\n",
    "</ol>"
   ]
  },
  {
   "cell_type": "raw",
   "metadata": {
    "number": 25,
    "section": "answer"
   },
   "source": [
    "D"
   ]
  },
  {
   "cell_type": "markdown",
   "metadata": {
    "number": 26,
    "section": "problem"
   },
   "source": [
    "---\n",
    "**Problem 26:** What advantage does an ISAM tree index have over a B+ tree for the same search key?\n",
    "\n",
    "<ol style=\"list-style-type: upper-alpha; margin-left:30px;\">\n",
    "<li>Easier to manage inserts</li>\n",
    "<li>Higher typical utilization</li>\n",
    "<li>None, a B+ Tree is always better</li>\n",
    "<li>It better suits dynamic data sets</li>\n",
    "<li>None of the above</li>\n",
    "</ol>"
   ]
  },
  {
   "cell_type": "raw",
   "metadata": {
    "number": 26,
    "section": "answer"
   },
   "source": [
    "A"
   ]
  },
  {
   "cell_type": "markdown",
   "metadata": {
    "number": 27,
    "section": "problem"
   },
   "source": [
    "---\n",
    "**Problem 27:** In Extensible Hashing immediately after the insertion that caused the directory size to grow from 8 to 16, how many buckets have exactly one directory entry pointing to them?\n",
    "\n",
    "<ol style=\"list-style-type: upper-alpha; margin-left:30px;\">\n",
    "<li>2</li>\n",
    "<li>7</li>\n",
    "<li>8</li>\n",
    "<li>15</li>\n",
    "<li>16</li>\n",
    "</ol>"
   ]
  },
  {
   "cell_type": "raw",
   "metadata": {
    "number": 27,
    "section": "answer"
   },
   "source": [
    "C"
   ]
  },
  {
   "cell_type": "markdown",
   "metadata": {
    "number": 28,
    "section": "problem"
   },
   "source": [
    "---\n",
    "Consider the snapshot of the Linear Hashing index shown below. Assume bucket splits occur whenever an overflow page is created.\n",
    "\n",
    "<img src=\"http://csbio.unc.edu/mcmillan/Media/LinearHashExample.png\" width='480px'>\n",
    "\n",
    "**Problem 28:** What is the maximum number of data entries that can be inserted (given the best possible distribution of keys) before you have to split a bucket?\n",
    "\n",
    "<ol style=\"list-style-type: upper-alpha; margin-left:30px;\">\n",
    "<li>1</li>\n",
    "<li>2</li>\n",
    "<li>3</li>\n",
    "<li>6</li>\n",
    "<li>None of the above</li>\n",
    "</ol>"
   ]
  },
  {
   "cell_type": "raw",
   "metadata": {
    "number": 28,
    "section": "answer"
   },
   "source": [
    "B"
   ]
  },
  {
   "cell_type": "markdown",
   "metadata": {
    "number": 29,
    "section": "problem"
   },
   "source": [
    "---\n",
    "**Problem 29:** Which of the following occurs if 63 is inserted into the linear-hash index in the state shown?\n",
    "\n",
    "<ol style=\"list-style-type: upper-alpha; margin-left:30px;\">\n",
    "<li>The page with 64 and 44 is split</li>\n",
    "<li>The page with 9, 25, and 5 is split</li>\n",
    "<li>The page with 10 is split</li>\n",
    "<li>The page with 31, 15, 7, and 3 is split</li>\n",
    "<li>None of the above</li>\n",
    "</ol>"
   ]
  },
  {
   "cell_type": "raw",
   "metadata": {
    "number": 29,
    "section": "answer"
   },
   "source": [
    "B"
   ]
  },
  {
   "cell_type": "markdown",
   "metadata": {
    "number": 30,
    "section": "problem"
   },
   "source": [
    "---\n",
    "**Problem 30:** What is largest number of blocks that can be externally sorted in 10 passes using 3 buffer pages?\n",
    "\n",
    "<ol style=\"list-style-type: upper-alpha; margin-left:30px;\">\n",
    "<li>2<sup>10</sup></li>\n",
    "<li>3(2<sup>9</sup>)</li>\n",
    "<li>2(3<sup>9</sup>)</li>\n",
    "<li>3<sup>10</sup></li>\n",
    "<li>None of the above</li>\n",
    "</ol>"
   ]
  },
  {
   "cell_type": "raw",
   "metadata": {
    "number": 30,
    "section": "answer"
   },
   "source": [
    "B"
   ]
  },
  {
   "cell_type": "markdown",
   "metadata": {
    "number": 31,
    "section": "problem"
   },
   "source": [
    "---\n",
    "**Problem 31:** Why are I/O costs important in a DBMS?\n",
    "\n",
    "<ol style=\"list-style-type: upper-alpha; margin-left:30px;\">\n",
    "<li>Retrieval rate, in bytes per second, is expensive</li>\n",
    "<li>Storage space, in dollars per byte, is expensive</li>\n",
    "<li>Computation speed, in instructions per second, is expensive</li>\n",
    "<li>Computation cost, in instructions per second per dollar, is expensive</li>\n",
    "<li>All of the above</li>\n",
    "</ol>"
   ]
  },
  {
   "cell_type": "raw",
   "metadata": {
    "number": 31,
    "section": "answer"
   },
   "source": [
    "A"
   ]
  },
  {
   "cell_type": "markdown",
   "metadata": {
    "number": 32,
    "section": "problem"
   },
   "source": [
    "---\n",
    "**Problem 32:** Which of the following SQL commands might be used to increase an existing relation's degree?\n",
    "\n",
    "<ol style=\"list-style-type: upper-alpha; margin-left:30px;\">\n",
    "<li>DROP TABLE</li>\n",
    "<li>INSERT</li>\n",
    "<li>ALTER TABLE</li>\n",
    "<li>SAVEPOINT</li>\n",
    "<li>COMMIT</li>\n",
    "</ol>"
   ]
  },
  {
   "cell_type": "raw",
   "metadata": {
    "number": 32,
    "section": "answer"
   },
   "source": [
    "C"
   ]
  },
  {
   "cell_type": "markdown",
   "metadata": {
    "number": 33,
    "section": "problem"
   },
   "source": [
    "---\n",
    "**Problem 33:** Of the following disk-transfer timing characteristics, which is greatest when reading a random block?\n",
    "\n",
    "<ol style=\"list-style-type: upper-alpha; margin-left:30px;\">\n",
    "<li>Seek time</li>\n",
    "<li>Rotational latency</li>\n",
    "<li>Data-transfer rate</li>\n",
    "<li>Parity checking</li>\n",
    "<li>None of the above</li>\n",
    "</ol>"
   ]
  },
  {
   "cell_type": "raw",
   "metadata": {
    "number": 33,
    "section": "answer"
   },
   "source": [
    "A"
   ]
  },
  {
   "cell_type": "markdown",
   "metadata": {
    "number": 34,
    "section": "problem"
   },
   "source": [
    "---\n",
    "**Problem 34:** Which of the following system-catalog statistics might be used to determine the most selective access path?\n",
    "\n",
    "<ol style=\"list-style-type: upper-alpha; margin-left:30px;\">\n",
    "<li>The order of search keys in an index</li>\n",
    "<li>The number of distinct attribute values</li>\n",
    "<li>Size of a relation in blocks</li>\n",
    "<li>The range of an attributes values</li>\n",
    "<li>All of the above</li>\n",
    "</ol>"
   ]
  },
  {
   "cell_type": "raw",
   "metadata": {
    "number": 34,
    "section": "answer"
   },
   "source": [
    "C"
   ]
  },
  {
   "cell_type": "markdown",
   "metadata": {
    "number": 35,
    "section": "problem"
   },
   "source": [
    "---\n",
    "**Problem 35:** What is the maximum number of records that can be indexed by a B+-tree index with a height of H and maximum fan out of M?\n",
    "\n",
    "<ol style=\"list-style-type: upper-alpha; margin-left:30px;\">\n",
    "<li>(M/2)<sup>H</sup></li>\n",
    "<li>(M - 1)<sup>H</sup></li>\n",
    "<li>M<sup>H</sup></li>\n",
    "<li>(M + 1)<sup>H</sup></li>\n",
    "<li>M<sup>H-1</sup>(M - 1)</li>\n",
    "</ol>"
   ]
  },
  {
   "cell_type": "raw",
   "metadata": {
    "number": 35,
    "section": "answer"
   },
   "source": [
    "E"
   ]
  },
  {
   "cell_type": "markdown",
   "metadata": {
    "number": 36,
    "section": "problem"
   },
   "source": [
    "---\n",
    "**Problem 36:** Which of the following best justifies *pushing a selection* through a join?\n",
    "\n",
    "<ol style=\"list-style-type: upper-alpha; margin-left:30px;\">\n",
    "<li>It considers only those attributes necessary to evaluate the query, allowing more records to be packed into a buffer page</li>\n",
    "<li>It makes indices more effective by removing irrelevant attributes</li>\n",
    "<li>It reduces the number of records that take part in the join</li>\n",
    "<li>It saves work when performing a sort-merge join</li>\n",
    "<li>It is never justified</li>\n",
    "</ol>"
   ]
  },
  {
   "cell_type": "raw",
   "metadata": {
    "number": 36,
    "section": "answer"
   },
   "source": [
    "C"
   ]
  },
  {
   "cell_type": "markdown",
   "metadata": {
    "number": 37,
    "section": "problem"
   },
   "source": [
    "---\n",
    "**Problem 37:** Which of the following best justifies pushing a projection through a join?\n",
    "\n",
    "<ol style=\"list-style-type: upper-alpha; margin-left:30px;\">\n",
    "<li>It considers only those attributes necessary to evaluate the query, allowing more records to be packed into a buffer page</li>\n",
    "<li>It makes indices more effective by removing irrelevant attributes</li>\n",
    "<li>It reduces the number of records that take part in the joine</li>\n",
    "<li>It saves work when performing a sort-merge join</li>\n",
    "<li>It is never justified</li>\n",
    "</ol>"
   ]
  },
  {
   "cell_type": "raw",
   "metadata": {
    "number": 37,
    "section": "answer"
   },
   "source": [
    "A"
   ]
  },
  {
   "cell_type": "markdown",
   "metadata": {
    "number": 38,
    "section": "problem"
   },
   "source": [
    "---\n",
    "**Problem 38:** Which of the following keys is central to a database index?\n",
    "\n",
    "<ol style=\"list-style-type: upper-alpha; margin-left:30px;\">\n",
    "<li>A primary key</li>\n",
    "<li>A candidate key</li>\n",
    "<li>A superkey</li>\n",
    "<li>A search key</li>\n",
    "<li>A foreign key</li>\n",
    "</ol>"
   ]
  },
  {
   "cell_type": "raw",
   "metadata": {
    "number": 38,
    "section": "answer"
   },
   "source": [
    "D"
   ]
  },
  {
   "cell_type": "markdown",
   "metadata": {
    "number": 39,
    "section": "problem"
   },
   "source": [
    "---\n",
    "**Problem 39:** Which of the following mechanisms enforces integrity constraint across multiple relations?\n",
    "\n",
    "<ol style=\"list-style-type: upper-alpha; margin-left:30px;\">\n",
    "<li>CONSTRAINT clauses</li>\n",
    "<li>PRIMARY KEY clauses</li>\n",
    "<li>ASSERTION clauses</li>\n",
    "<li>LIMIT clause</li>\n",
    "<li>CHECK clauses</li>\n",
    "</ol>"
   ]
  },
  {
   "cell_type": "raw",
   "metadata": {
    "number": 39,
    "section": "answer"
   },
   "source": [
    "E"
   ]
  },
  {
   "cell_type": "markdown",
   "metadata": {
    "number": 40,
    "section": "problem"
   },
   "source": [
    "---\n",
    "**Problem 40:** Which of the following statements characterize the relational database model? \n",
    "\n",
    "<ol style=\"list-style-type: upper-alpha; margin-left:30px;\">\n",
    "<li>Entities are stored as tables</li>\n",
    "<li>Relations between entities are stored as tables</li>\n",
    "<li>Table have distinct names</li>\n",
    "<li>The number and types of table attributes are pre-specified</li>\n",
    "<li>All of the above</li>\n",
    "</ol>"
   ]
  },
  {
   "cell_type": "raw",
   "metadata": {
    "number": 40,
    "section": "answer"
   },
   "source": [
    "E"
   ]
  },
  {
   "cell_type": "markdown",
   "metadata": {},
   "source": [
    "Click [here to submit](http://csbio.unc.edu/mcmillan/index.py?run=Exam.upload) your completed final.\n",
    "\n",
    "You can submit it as many times as you would like, but only the last submitted version will be graded. No exams will be accepted after the examination period expires. "
   ]
  }
 ],
 "metadata": {
  "kernelspec": {
   "display_name": "Python 2",
   "language": "python",
   "name": "python2"
  },
  "language_info": {
   "codemirror_mode": {
    "name": "ipython",
    "version": 2
   },
   "file_extension": ".py",
   "mimetype": "text/x-python",
   "name": "python",
   "nbconvert_exporter": "python",
   "pygments_lexer": "ipython2",
   "version": "2.7.12"
  }
 },
 "nbformat": 4,
 "nbformat_minor": 0
}
