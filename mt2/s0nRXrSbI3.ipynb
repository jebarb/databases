{
 "cells": [
  {
   "cell_type": "markdown",
   "metadata": {
    "course": "Comp521F16",
    "exam": "Midterm2",
    "section": "header"
   },
   "source": [
    "<div style=\"text-align: center;\">\n",
    "\n",
    "<h1>The University of North Carolina at Chapel Hill</h1>\n",
    "\n",
    "<h1>Comp 521 Files and Databases - Fall 2016</h1>\n",
    "\n",
    "<h1 style=\"font-size: 200%;\">Midterm #2</h1>\n",
    "\n",
    "<h2>20 questions - 50 minutes</h2>\n",
    "\n",
    "<h2>Friday 11/11/2016</h2>\n",
    "<br>\n",
    "</div>\n",
    "\n",
    "\n",
    "\n",
    "**Exam Information:** Answer each question using the cell immediately following it.For multiple choice questions enter only the *one* best answer.The cells in this notebook contain metadata that enables it to be automatically parsed.Thus, you must enter your answers *only* into the cells provided.Do not delete any answer cell and add a new one to replace it."
   ]
  },
  {
   "cell_type": "code",
   "execution_count": 1,
   "metadata": {
    "collapsed": true,
    "section": "signature"
   },
   "outputs": [],
   "source": [
    "# Replace the following strings with the requested information\n",
    "# Make sure each string is enclosed in quotation marks\n",
    "class Student:\n",
    "    first = \"James\"\n",
    "    last = \"Barbour\"\n",
    "    onyen = \"jebarbou\"\n",
    "    pid = \"720076615\""
   ]
  },
  {
   "cell_type": "markdown",
   "metadata": {
    "number": 1,
    "section": "problem"
   },
   "source": [
    "---\n",
    "**Problem 1:** For which of the following attributes of an *Employee* relation might a hash-index be a more reasonable choice than a B<sup>+</sup>-tree index?\n",
    "\n",
    "<ol style=\"list-style-type: upper-alpha; margin-left:30px;\">\n",
    "<li>Social Security Number</li>\n",
    "<li>Birthdate</li>\n",
    "<li>Salary</li>\n",
    "<li>Last Name</li>\n",
    "<li>Startdate</li>\n",
    "</ol>"
   ]
  },
  {
   "cell_type": "raw",
   "metadata": {
    "number": 1,
    "section": "answer"
   },
   "source": [
    "A"
   ]
  },
  {
   "cell_type": "markdown",
   "metadata": {
    "number": 2,
    "section": "problem"
   },
   "source": [
    "---\n",
    "**Problem 2:** Why does one \"pin a page\" in a buffer pool?\n",
    "\n",
    "<ol style=\"list-style-type: upper-alpha; margin-left:30px;\">\n",
    "<li>To avoid writing the page back to disk when it is replaced</li>\n",
    "<li>To prevent it from being removed from the pool</li>\n",
    "<li>To denote a recently referenced page in the buffer pool</li>\n",
    "<li>To distinguish an index page from a data record page</li>\n",
    "<li>All of the above</li>\n",
    "</ol>"
   ]
  },
  {
   "cell_type": "raw",
   "metadata": {
    "number": 2,
    "section": "answer"
   },
   "source": [
    "B"
   ]
  },
  {
   "cell_type": "markdown",
   "metadata": {
    "number": 3,
    "section": "problem"
   },
   "source": [
    "---\n",
    "**Problem 3:** Which of the following is *not* a feature of extensible hashing?\n",
    "\n",
    "<ol style=\"list-style-type: upper-alpha; margin-left:30px;\">\n",
    "<li>It avoids overflow chains</li>\n",
    "<li>It requires a directory to map hash keys to buckets</li>\n",
    "<li>Each bucket tracks the depth of its hash function</li>\n",
    "<li>Doubling creates a split-image of every bucket</li>\n",
    "<li>Multiple doublings might result from a bucket overflow</li>\n",
    "</ol>"
   ]
  },
  {
   "cell_type": "raw",
   "metadata": {
    "number": 3,
    "section": "answer"
   },
   "source": [
    "D"
   ]
  },
  {
   "cell_type": "markdown",
   "metadata": {
    "number": 4,
    "section": "problem"
   },
   "source": [
    "---\n",
    "**Problem 4:** What is the minimum number of buffer pages needed to perform an external sort of a relation occupying  420 pages in 2 passes?\n",
    "\n",
    "<ol style=\"list-style-type: upper-alpha; margin-left:30px;\">\n",
    "<li>14</li>\n",
    "<li>20</li>\n",
    "<li>21</li>\n",
    "<li>42</li>\n",
    "<li>60</li>\n",
    "</ol>"
   ]
  },
  {
   "cell_type": "raw",
   "metadata": {
    "number": 4,
    "section": "answer"
   },
   "source": [
    "C"
   ]
  },
  {
   "cell_type": "markdown",
   "metadata": {
    "number": 5,
    "section": "problem"
   },
   "source": [
    "---\n",
    "**Problem 5:** Which of the following is not an algorithm for evaluating joins?\n",
    "\n",
    "<ol style=\"list-style-type: upper-alpha; margin-left:30px;\">\n",
    "<li>block nested loop</li>\n",
    "<li>index-nested loop</li>\n",
    "<li>sort-merge</li>\n",
    "<li>hash join</li>\n",
    "<li>left-deep plans</li>\n",
    "</ol>"
   ]
  },
  {
   "cell_type": "raw",
   "metadata": {
    "number": 5,
    "section": "answer"
   },
   "source": [
    "E"
   ]
  },
  {
   "cell_type": "markdown",
   "metadata": {
    "number": 6,
    "section": "problem"
   },
   "source": [
    "---\n",
    "**Problem 6:** For which of the following relational algebra operations does a query evaluation plan attempt to identify the \"most selective access path\"? \n",
    "\n",
    "<ol style=\"list-style-type: upper-alpha; margin-left:30px;\">\n",
    "<li>Joins</li>\n",
    "<li>Selections</li>\n",
    "<li>Projections</li>\n",
    "<li>Set unions</li>\n",
    "<li>Cross products</li>\n",
    "</ol>"
   ]
  },
  {
   "cell_type": "raw",
   "metadata": {
    "number": 6,
    "section": "answer"
   },
   "source": [
    "B"
   ]
  },
  {
   "cell_type": "markdown",
   "metadata": {
    "number": 7,
    "section": "problem"
   },
   "source": [
    "---\n",
    "**Problem 7:** Which of the following approaches can be used to eliminate duplicate result tuples?\n",
    "\n",
    "<ol style=\"list-style-type: upper-alpha; margin-left:30px;\">\n",
    "<li>An on-the-fly hash of the result set</li>\n",
    "<li>Sorting of the result set</li>\n",
    "<li>Scanning a B+-tree index that uses the result tuple as a search key</li>\n",
    "<li>Scanning the buckets of a hash index for repeated search keys</li>\n",
    "<li>All of the above</li>\n",
    "</ol>"
   ]
  },
  {
   "cell_type": "raw",
   "metadata": {
    "number": 7,
    "section": "answer"
   },
   "source": [
    "E"
   ]
  },
  {
   "cell_type": "markdown",
   "metadata": {
    "number": 8,
    "section": "problem"
   },
   "source": [
    "---\n",
    "**Problem 8:** Which of the following is *not* a feature common to both Sort-Merge-Joins and Hash-Joins?\n",
    "\n",
    "<ol style=\"list-style-type: upper-alpha; margin-left:30px;\">\n",
    "<li>Near linear performance</li>\n",
    "<li>An initial preprocessing of the relations being joined that generates disk I/O</li>\n",
    "<li>Extensive use of pages from the buffer pool</li>\n",
    "<li>Immunity to data-skew</li>\n",
    "<li>They are parallelizable</li>\n",
    "</ol>"
   ]
  },
  {
   "cell_type": "raw",
   "metadata": {
    "number": 8,
    "section": "answer"
   },
   "source": [
    "A"
   ]
  },
  {
   "cell_type": "markdown",
   "metadata": {},
   "source": [
    "Consider the following relations:\n",
    "\n",
    "<div style=\"margin-left: 40px\">\n",
    "    ***Dept***(did, dname, location, managerid)<br>\n",
    "    ***Emp***(eid, dept, name, sal)\n",
    "</div>\n",
    "\n",
    "Where *managerid* is a foreign key referencing *eid*, and *dept* is a foreign key referencing *did*. Mangers are members of division departments that have a common location. Division managers are members of the corporate department located at the headquarters and is managed by a vice-president who is also a member of the corporate department she manages.\n",
    "\n",
    "The following queries are most important:\n",
    "<div style=\"margin-left: 40px\">\n",
    "Listing the names of managers for each department at a specified location.<br>\n",
    "Finding the total salary of a department's employees. \n",
    "</div>"
   ]
  },
  {
   "cell_type": "markdown",
   "metadata": {
    "number": 9,
    "section": "problem"
   },
   "source": [
    "---\n",
    "**Problem 9:** Which of the following indices best suits this database design?\n",
    "\n",
    "<ol style=\"list-style-type: upper-alpha; margin-left:30px;\">\n",
    "<li>A hash index on Dept.did</li>\n",
    "<li>A B+-tree index on Emp.sal</li>\n",
    "<li>A hash index on Emp.eid</li>\n",
    "<li>A B+-tree index on Emp.name</li>\n",
    "<li>A hash index on Dept.managerid</li>\n",
    "</ol>"
   ]
  },
  {
   "cell_type": "raw",
   "metadata": {
    "number": 9,
    "section": "answer"
   },
   "source": [
    "A"
   ]
  },
  {
   "cell_type": "markdown",
   "metadata": {
    "number": 10,
    "section": "problem"
   },
   "source": [
    "---\n",
    "**Problem 10:** How might one improve the performance of the following query?\n",
    "\n",
    "    SELECT E.name, D.dname\n",
    "    FROM Emp E, Dept D\n",
    "    WHERE E.dept = D.did AND E.eid in (\n",
    "              SELECT managerid\n",
    "              FROM Dept\n",
    "              WHERE location=?)\n",
    "\n",
    "<ol style=\"list-style-type: upper-alpha; margin-left:30px;\">\n",
    "<li>By saving the nested query as a temporary table</li>\n",
    "<li>By adding an index on managerid of the Dept relation</li>\n",
    "<li>By adding an index on name of the Emp relation</li>\n",
    "<li>By rewriting the query using a single query block</li>\n",
    "<li>All of the above</li>\n",
    "</ol>"
   ]
  },
  {
   "cell_type": "raw",
   "metadata": {
    "number": 10,
    "section": "answer"
   },
   "source": [
    "D"
   ]
  },
  {
   "cell_type": "markdown",
   "metadata": {
    "number": 11,
    "section": "problem"
   },
   "source": [
    "---\n",
    "**Problem 11:** Which following advantage does a hash-based index have over a tree-based index, in general? \n",
    "\n",
    "<ol style=\"list-style-type: upper-alpha; margin-left:30px;\">\n",
    "<li>Fewer page accesses per lookup</li>\n",
    "<li>Supports a broader range of queries</li>\n",
    "<li>More records per page</li>\n",
    "<li>Immune to \"data-skew\" effects</li>\n",
    "<li>Overflow pages</li>\n",
    "</ol>"
   ]
  },
  {
   "cell_type": "raw",
   "metadata": {
    "number": 11,
    "section": "answer"
   },
   "source": [
    "A"
   ]
  },
  {
   "cell_type": "markdown",
   "metadata": {
    "number": 12,
    "section": "problem"
   },
   "source": [
    "---\n",
    "**Problem 12:** Of the following hard-drive timing characteristics, which accounts for moving the head?\n",
    "\n",
    "<ol style=\"list-style-type: upper-alpha; margin-left:30px;\">\n",
    "<li>Seek time</li>\n",
    "<li>Rotational latency</li>\n",
    "<li>Data-transfer rate</li>\n",
    "<li>Parity checking</li>\n",
    "<li>None of the above</li>\n",
    "</ol>"
   ]
  },
  {
   "cell_type": "raw",
   "metadata": {
    "number": 12,
    "section": "answer"
   },
   "source": [
    "A"
   ]
  },
  {
   "cell_type": "markdown",
   "metadata": {},
   "source": [
    "<img src=\"http://csbio.unc.edu/mcmillan/Media/MidTerm2Btree.png\">"
   ]
  },
  {
   "cell_type": "code",
   "execution_count": null,
   "metadata": {
    "collapsed": true
   },
   "outputs": [],
   "source": []
  },
  {
   "cell_type": "markdown",
   "metadata": {
    "number": 13,
    "section": "problem"
   },
   "source": [
    "---\n",
    "**Problem 13:** Which of the following is true after inserting 19 and 20 into the B<sup>+</sup>-tree shown above?\n",
    "\n",
    "<ol style=\"list-style-type: upper-alpha; margin-left:30px;\">\n",
    "<li>All nodes of the tree will be filled</li>\n",
    "<li>The root node will split and the tree will gain a level</li>\n",
    "<li>The tree's structure is unchanged</li>\n",
    "<li>The root node's contents will be unchanged</li>\n",
    "<li>The tree loses a level</li>\n",
    "</ol>"
   ]
  },
  {
   "cell_type": "raw",
   "metadata": {
    "number": 13,
    "section": "answer"
   },
   "source": [
    "B"
   ]
  },
  {
   "cell_type": "markdown",
   "metadata": {
    "number": 14,
    "section": "problem"
   },
   "source": [
    "---\n",
    "**Problem 14:** Which of the following is true after deleting 16 from the B+-tree shown above?\n",
    "\n",
    "<ol style=\"list-style-type: upper-alpha; margin-left:30px;\">\n",
    "<li>There will be fewer leaf nodes</li>\n",
    "<li>There will be one less search key in the root node</li>\n",
    "<li>All nodes will be at least half full</li>\n",
    "<li>Search keys will be redistributed between two adjacent leaf nodes</li>\n",
    "<li>All of the above</li>\n",
    "</ol>"
   ]
  },
  {
   "cell_type": "raw",
   "metadata": {
    "number": 14,
    "section": "answer"
   },
   "source": [
    "C"
   ]
  },
  {
   "cell_type": "markdown",
   "metadata": {
    "number": 15,
    "section": "problem"
   },
   "source": [
    "---\n",
    "**Problem 15:** Which of the following properties of an XML data description *differ* from a relational database.\n",
    "\n",
    "<ol style=\"list-style-type: upper-alpha; margin-left:30px;\">\n",
    "<li>All data is represented as a tree hierarchy</li>\n",
    "<li>Recursive data types can be declared</li>\n",
    "<li>Data is self-describing (i.e. each data item is enclosed in a tag that decribes it)</li>\n",
    "<li>XML data has a inherent order, and traversal order</li>\n",
    "<li>All of the above</li>\n",
    "</ol>"
   ]
  },
  {
   "cell_type": "raw",
   "metadata": {
    "number": 15,
    "section": "answer"
   },
   "source": [
    "A"
   ]
  },
  {
   "cell_type": "markdown",
   "metadata": {
    "number": 16,
    "section": "problem"
   },
   "source": [
    "---\n",
    "**Problem 16:** Which of the following statements concerning record ids is *false*?\n",
    "\n",
    "<ol style=\"list-style-type: upper-alpha; margin-left:30px;\">\n",
    "<li>They uniquely identify a page on disk</li>\n",
    "<li>They imply an I/O to find the referenced item</li>\n",
    "<li>They are used to determine if a page is saved in the buffer pool</li>\n",
    "<li>They often identify a specific tuple of a relation</li>\n",
    "<li>They frequently appear alongside search keys in an index</li>\n",
    "</ol>"
   ]
  },
  {
   "cell_type": "raw",
   "metadata": {
    "number": 16,
    "section": "answer"
   },
   "source": [
    "C"
   ]
  },
  {
   "cell_type": "markdown",
   "metadata": {
    "number": 17,
    "section": "problem"
   },
   "source": [
    "---\n",
    "**Problem 17:** What is the point of data striping in RAID configurations?\n",
    "\n",
    "<ol style=\"list-style-type: upper-alpha; margin-left:30px;\">\n",
    "<li>It provides redundancy</li>\n",
    "<li>It supports the recovery from a failed drive</li>\n",
    "<li>It reduces the mean-time between failures</li>\n",
    "<li>It increases the effective disk transfer bandwidth</li>\n",
    "<li>All of the above</li>\n",
    "</ol>"
   ]
  },
  {
   "cell_type": "raw",
   "metadata": {
    "number": 17,
    "section": "answer"
   },
   "source": [
    "D"
   ]
  },
  {
   "cell_type": "markdown",
   "metadata": {
    "number": 18,
    "section": "problem"
   },
   "source": [
    "---\n",
    "**Problem 18:** What is the advantage of double buffering in an external sort?\n",
    "\n",
    "<ol style=\"list-style-type: upper-alpha; margin-left:30px;\">\n",
    "<li>It frees up more pages for the buffer pool</li>\n",
    "<li>It reduces the number of passes required</li>\n",
    "<li>It requires fewer page transfers</li>\n",
    "<li>It reduces I/O latency</li>\n",
    "<li>All of the above</li>\n",
    "</ol>"
   ]
  },
  {
   "cell_type": "raw",
   "metadata": {
    "number": 18,
    "section": "answer"
   },
   "source": [
    "D"
   ]
  },
  {
   "cell_type": "markdown",
   "metadata": {
    "number": 19,
    "section": "problem"
   },
   "source": [
    "---\n",
    "**Problem 19:** Which of the following is *not* expected of a query optimizer?\n",
    "\n",
    "<ol style=\"list-style-type: upper-alpha; margin-left:30px;\">\n",
    "<li>Considering available indices</li>\n",
    "<li>Finding the optimal plan</li>\n",
    "<li>Avoiding materialization of temporary relations</li>\n",
    "<li>Estimating the I/Os required for various alternative plans</li>\n",
    "<li>Considering the most selective access path</li>\n",
    "</ol>"
   ]
  },
  {
   "cell_type": "raw",
   "metadata": {
    "number": 19,
    "section": "answer"
   },
   "source": [
    "B"
   ]
  },
  {
   "cell_type": "markdown",
   "metadata": {
    "number": 20,
    "section": "problem"
   },
   "source": [
    "---\n",
    "**Problem 20:** Which of the following distinguishes extensible from linear hashing?\n",
    "\n",
    "<ol style=\"list-style-type: upper-alpha; margin-left:30px;\">\n",
    "<li>The types of hashing functions used</li>\n",
    "<li>Support for dynamic hashing</li>\n",
    "<li>Buckets may use different hash functions</li>\n",
    "<li>It does not require overflow buckets</li>\n",
    "<li>All of the above</li>\n",
    "</ol>"
   ]
  },
  {
   "cell_type": "raw",
   "metadata": {
    "number": 20,
    "section": "answer"
   },
   "source": [
    "C"
   ]
  },
  {
   "cell_type": "markdown",
   "metadata": {},
   "source": [
    "Click [here to submit](http://csbio.unc.edu/mcmillan/index.py?run=PS.upload) your completed problem set.\n",
    "\n",
    "You can submit it as many times as you would like, but only the last submitted version will be graded. If the last submission was after the due date the final score will be reduced accordingly. "
   ]
  }
 ],
 "metadata": {
  "kernelspec": {
   "display_name": "Python 2",
   "language": "python",
   "name": "python2"
  },
  "language_info": {
   "codemirror_mode": {
    "name": "ipython",
    "version": 2
   },
   "file_extension": ".py",
   "mimetype": "text/x-python",
   "name": "python",
   "nbconvert_exporter": "python",
   "pygments_lexer": "ipython2",
   "version": "2.7.12"
  }
 },
 "nbformat": 4,
 "nbformat_minor": 0
}
